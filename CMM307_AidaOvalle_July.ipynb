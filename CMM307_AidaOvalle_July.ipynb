{
  "nbformat": 4,
  "nbformat_minor": 0,
  "metadata": {
    "colab": {
      "provenance": []
    },
    "kernelspec": {
      "name": "python3",
      "display_name": "Python 3"
    },
    "language_info": {
      "name": "python"
    }
  },
  "cells": [
    {
      "cell_type": "markdown",
      "source": [
        "# **Advanced Artificial Intelligence Coursework - Aida Ovalle Filippova (2006512)**\n",
        "\n",
        "---\n",
        "\n"
      ],
      "metadata": {
        "id": "hm7h5_pETlUb"
      }
    },
    {
      "cell_type": "markdown",
      "source": [
        "## **Section 1 : Dataset**\n",
        "\n",
        "---\n",
        "\n"
      ],
      "metadata": {
        "id": "0NOcrOXyTsdT"
      }
    },
    {
      "cell_type": "markdown",
      "source": [
        "Describe the dataset and task to be performed. (200 Words)  \n"
      ],
      "metadata": {
        "id": "3-mZQCQoVtod"
      }
    },
    {
      "cell_type": "markdown",
      "source": [
        "The introduction should clearly identify the problem which you are aiming to resolve and why an NLP system is needed/useful for this task. This should make specific reference to the dataset.  "
      ],
      "metadata": {
        "id": "BdTQSUHWZT5E"
      }
    },
    {
      "cell_type": "markdown",
      "source": [
        "*Introduction comprehensively describes dataset. Preprocessing follows industry or research standard with no deficiencies.*"
      ],
      "metadata": {
        "id": "McKVRN7IaQOl"
      }
    },
    {
      "cell_type": "code",
      "source": [
        "#Load, explore and pre-process dataset. Consider reviewing Week 2 for ideas.\n",
        "import pandas as pd\n",
        "import numpy as np\n",
        "import io\n",
        "from google.colab import files\n",
        "\n",
        "import random\n",
        "random.seed(1337)\n",
        "\n",
        "uploaded = files.upload()\n"
      ],
      "metadata": {
        "colab": {
          "base_uri": "https://localhost:8080/",
          "height": 108
        },
        "id": "Kt0ul4YOWJj7",
        "outputId": "7a171179-48f4-4b4c-d39a-ca38a9898167"
      },
      "execution_count": null,
      "outputs": [
        {
          "output_type": "display_data",
          "data": {
            "text/plain": [
              "<IPython.core.display.HTML object>"
            ],
            "text/html": [
              "\n",
              "     <input type=\"file\" id=\"files-77f9e1f7-76fe-4bc7-9b08-d9f3c0457075\" name=\"files[]\" multiple disabled\n",
              "        style=\"border:none\" />\n",
              "     <output id=\"result-77f9e1f7-76fe-4bc7-9b08-d9f3c0457075\">\n",
              "      Upload widget is only available when the cell has been executed in the\n",
              "      current browser session. Please rerun this cell to enable.\n",
              "      </output>\n",
              "      <script>// Copyright 2017 Google LLC\n",
              "//\n",
              "// Licensed under the Apache License, Version 2.0 (the \"License\");\n",
              "// you may not use this file except in compliance with the License.\n",
              "// You may obtain a copy of the License at\n",
              "//\n",
              "//      http://www.apache.org/licenses/LICENSE-2.0\n",
              "//\n",
              "// Unless required by applicable law or agreed to in writing, software\n",
              "// distributed under the License is distributed on an \"AS IS\" BASIS,\n",
              "// WITHOUT WARRANTIES OR CONDITIONS OF ANY KIND, either express or implied.\n",
              "// See the License for the specific language governing permissions and\n",
              "// limitations under the License.\n",
              "\n",
              "/**\n",
              " * @fileoverview Helpers for google.colab Python module.\n",
              " */\n",
              "(function(scope) {\n",
              "function span(text, styleAttributes = {}) {\n",
              "  const element = document.createElement('span');\n",
              "  element.textContent = text;\n",
              "  for (const key of Object.keys(styleAttributes)) {\n",
              "    element.style[key] = styleAttributes[key];\n",
              "  }\n",
              "  return element;\n",
              "}\n",
              "\n",
              "// Max number of bytes which will be uploaded at a time.\n",
              "const MAX_PAYLOAD_SIZE = 100 * 1024;\n",
              "\n",
              "function _uploadFiles(inputId, outputId) {\n",
              "  const steps = uploadFilesStep(inputId, outputId);\n",
              "  const outputElement = document.getElementById(outputId);\n",
              "  // Cache steps on the outputElement to make it available for the next call\n",
              "  // to uploadFilesContinue from Python.\n",
              "  outputElement.steps = steps;\n",
              "\n",
              "  return _uploadFilesContinue(outputId);\n",
              "}\n",
              "\n",
              "// This is roughly an async generator (not supported in the browser yet),\n",
              "// where there are multiple asynchronous steps and the Python side is going\n",
              "// to poll for completion of each step.\n",
              "// This uses a Promise to block the python side on completion of each step,\n",
              "// then passes the result of the previous step as the input to the next step.\n",
              "function _uploadFilesContinue(outputId) {\n",
              "  const outputElement = document.getElementById(outputId);\n",
              "  const steps = outputElement.steps;\n",
              "\n",
              "  const next = steps.next(outputElement.lastPromiseValue);\n",
              "  return Promise.resolve(next.value.promise).then((value) => {\n",
              "    // Cache the last promise value to make it available to the next\n",
              "    // step of the generator.\n",
              "    outputElement.lastPromiseValue = value;\n",
              "    return next.value.response;\n",
              "  });\n",
              "}\n",
              "\n",
              "/**\n",
              " * Generator function which is called between each async step of the upload\n",
              " * process.\n",
              " * @param {string} inputId Element ID of the input file picker element.\n",
              " * @param {string} outputId Element ID of the output display.\n",
              " * @return {!Iterable<!Object>} Iterable of next steps.\n",
              " */\n",
              "function* uploadFilesStep(inputId, outputId) {\n",
              "  const inputElement = document.getElementById(inputId);\n",
              "  inputElement.disabled = false;\n",
              "\n",
              "  const outputElement = document.getElementById(outputId);\n",
              "  outputElement.innerHTML = '';\n",
              "\n",
              "  const pickedPromise = new Promise((resolve) => {\n",
              "    inputElement.addEventListener('change', (e) => {\n",
              "      resolve(e.target.files);\n",
              "    });\n",
              "  });\n",
              "\n",
              "  const cancel = document.createElement('button');\n",
              "  inputElement.parentElement.appendChild(cancel);\n",
              "  cancel.textContent = 'Cancel upload';\n",
              "  const cancelPromise = new Promise((resolve) => {\n",
              "    cancel.onclick = () => {\n",
              "      resolve(null);\n",
              "    };\n",
              "  });\n",
              "\n",
              "  // Wait for the user to pick the files.\n",
              "  const files = yield {\n",
              "    promise: Promise.race([pickedPromise, cancelPromise]),\n",
              "    response: {\n",
              "      action: 'starting',\n",
              "    }\n",
              "  };\n",
              "\n",
              "  cancel.remove();\n",
              "\n",
              "  // Disable the input element since further picks are not allowed.\n",
              "  inputElement.disabled = true;\n",
              "\n",
              "  if (!files) {\n",
              "    return {\n",
              "      response: {\n",
              "        action: 'complete',\n",
              "      }\n",
              "    };\n",
              "  }\n",
              "\n",
              "  for (const file of files) {\n",
              "    const li = document.createElement('li');\n",
              "    li.append(span(file.name, {fontWeight: 'bold'}));\n",
              "    li.append(span(\n",
              "        `(${file.type || 'n/a'}) - ${file.size} bytes, ` +\n",
              "        `last modified: ${\n",
              "            file.lastModifiedDate ? file.lastModifiedDate.toLocaleDateString() :\n",
              "                                    'n/a'} - `));\n",
              "    const percent = span('0% done');\n",
              "    li.appendChild(percent);\n",
              "\n",
              "    outputElement.appendChild(li);\n",
              "\n",
              "    const fileDataPromise = new Promise((resolve) => {\n",
              "      const reader = new FileReader();\n",
              "      reader.onload = (e) => {\n",
              "        resolve(e.target.result);\n",
              "      };\n",
              "      reader.readAsArrayBuffer(file);\n",
              "    });\n",
              "    // Wait for the data to be ready.\n",
              "    let fileData = yield {\n",
              "      promise: fileDataPromise,\n",
              "      response: {\n",
              "        action: 'continue',\n",
              "      }\n",
              "    };\n",
              "\n",
              "    // Use a chunked sending to avoid message size limits. See b/62115660.\n",
              "    let position = 0;\n",
              "    do {\n",
              "      const length = Math.min(fileData.byteLength - position, MAX_PAYLOAD_SIZE);\n",
              "      const chunk = new Uint8Array(fileData, position, length);\n",
              "      position += length;\n",
              "\n",
              "      const base64 = btoa(String.fromCharCode.apply(null, chunk));\n",
              "      yield {\n",
              "        response: {\n",
              "          action: 'append',\n",
              "          file: file.name,\n",
              "          data: base64,\n",
              "        },\n",
              "      };\n",
              "\n",
              "      let percentDone = fileData.byteLength === 0 ?\n",
              "          100 :\n",
              "          Math.round((position / fileData.byteLength) * 100);\n",
              "      percent.textContent = `${percentDone}% done`;\n",
              "\n",
              "    } while (position < fileData.byteLength);\n",
              "  }\n",
              "\n",
              "  // All done.\n",
              "  yield {\n",
              "    response: {\n",
              "      action: 'complete',\n",
              "    }\n",
              "  };\n",
              "}\n",
              "\n",
              "scope.google = scope.google || {};\n",
              "scope.google.colab = scope.google.colab || {};\n",
              "scope.google.colab._files = {\n",
              "  _uploadFiles,\n",
              "  _uploadFilesContinue,\n",
              "};\n",
              "})(self);\n",
              "</script> "
            ]
          },
          "metadata": {}
        },
        {
          "output_type": "stream",
          "name": "stdout",
          "text": [
            "Saving train.jsonl to train.jsonl\n",
            "Saving test.jsonl to test.jsonl\n"
          ]
        }
      ]
    },
    {
      "cell_type": "markdown",
      "source": [
        "## **Section 2 : Representation Learning**\n",
        "\n",
        "---\n",
        "\n"
      ],
      "metadata": {
        "id": "xOfEI14JTy7A"
      }
    },
    {
      "cell_type": "markdown",
      "source": [
        "Describe the representation learning approach adopted. (200 Words)\n"
      ],
      "metadata": {
        "id": "Ydbb0oDGV_K7"
      }
    },
    {
      "cell_type": "markdown",
      "source": [
        "In this section you will describe how you plan to convert the textual data into a numerical vector to enable any planned NLP tasks. Consider reviewing Week 3 for ideas.  "
      ],
      "metadata": {
        "id": "RDunHeCZZYge"
      }
    },
    {
      "cell_type": "markdown",
      "source": [
        "*Implemented and described representation learning method with significant advancements beyond what was demonstrated in the lectures or lab exercises.*"
      ],
      "metadata": {
        "id": "jbNTfoRcaVjX"
      }
    },
    {
      "cell_type": "code",
      "source": [
        "#Perform representation learning/vectorisation on the selected dataset. Consider reviewing Week 3 for ideas."
      ],
      "metadata": {
        "id": "tDCs79c4WUsc"
      },
      "execution_count": null,
      "outputs": []
    },
    {
      "cell_type": "markdown",
      "source": [
        "## **Section 3 : Algorithms**\n",
        "\n",
        "---\n",
        "\n"
      ],
      "metadata": {
        "id": "7sjoR_SFTzTC"
      }
    },
    {
      "cell_type": "markdown",
      "source": [
        "Describe the theory behind the algorithms to be applied. (500 Words)"
      ],
      "metadata": {
        "id": "Jnfd28ddWCOA"
      }
    },
    {
      "cell_type": "markdown",
      "source": [
        "Describe the Machine Learning models which you will compare to perform the selected task. Consider reviewing Weeks 4 – 8 for ideas."
      ],
      "metadata": {
        "id": "qOhkIG9KZeMN"
      }
    },
    {
      "cell_type": "markdown",
      "source": [
        "*Implemented and described at least two NLP/IR models with significant advancements beyond what was demonstrated in the lectures or lab exercises.*"
      ],
      "metadata": {
        "id": "XSU9bPDgaccq"
      }
    },
    {
      "cell_type": "code",
      "source": [
        "#Implement 2 NLP algorithms. Consider reviewing Weeks 4 – 8 for ideas."
      ],
      "metadata": {
        "id": "C77dLytGWc5U"
      },
      "execution_count": null,
      "outputs": []
    },
    {
      "cell_type": "markdown",
      "source": [
        "## **Section 4 : Evaluation**\n",
        "\n",
        "---\n",
        "\n"
      ],
      "metadata": {
        "id": "CzwRpnm6TzZu"
      }
    },
    {
      "cell_type": "markdown",
      "source": [
        "Describe the evaluation process, and analyse the results. (200 Words)\n"
      ],
      "metadata": {
        "id": "rcqlSqXyWG3z"
      }
    },
    {
      "cell_type": "markdown",
      "source": [
        "Depending on the task you adopt, there are several different ways you may wish to evaluate the proposed NLP system. You should demonstrate your understanding by suggesting an appropriate evaluation strategy here (which suits both the task and the data). The report should then conclude with a description of the outcome of the comparison, alongside any appropriate visualisation. Consider reviewing Weeks 4 – 8 for specific ideas related to some tasks, or Week 9 for ideas relating to explaining the outcomes of NLP systems."
      ],
      "metadata": {
        "id": "ndfCGJ_oZigU"
      }
    },
    {
      "cell_type": "markdown",
      "source": [
        "*Captured, visualised and discussed at least two performance metrics which are well suited to the task or dataset. Discussion and analysis are comprehensive.*"
      ],
      "metadata": {
        "id": "VOd7mYTpalL1"
      }
    },
    {
      "cell_type": "code",
      "source": [
        "#Evaluate the algorithms using an appropriate testing strategy and metrics. Consider reviewing Weeks 4 – 8 for specific ideas related to some tasks, or Week 9 for ideas relating to explaining the outcomes of NLP systems."
      ],
      "metadata": {
        "id": "j0DqNB8iWfU4"
      },
      "execution_count": null,
      "outputs": []
    },
    {
      "cell_type": "markdown",
      "source": [
        "## **Section 5 : Paper Overview**\n",
        "\n",
        "---\n",
        "\n"
      ],
      "metadata": {
        "id": "ccttf91yUB5a"
      }
    },
    {
      "cell_type": "markdown",
      "source": [
        "Provide an overview of the paper and its contributions, including the task to be performed. (200 Words)  \n"
      ],
      "metadata": {
        "id": "UdMXdivaWo7y"
      }
    },
    {
      "cell_type": "markdown",
      "source": [
        "It is understood that it is sometimes impossible to completely reproduce another author’s work, particularly in scenarios where they do not share certain parameters or use an alternative library from the one selected by the student. In such cases, the student may select the most appropriate strategy and continue the development (for example, if a parameter is not mentioned then you may wish to keep it at a library default, use a value from the lab exercises, or experiment). All that is required is a comment to highlight where this has been the case.\n",
        "A reading list of papers is provided in CampusMoodle (broken down across relevant topics for each week). These should give ideas, but students may consider papers from any reputable source.\n",
        "Students are encouraged to keep in mind resource requirements for experiments. NLP algorithms quickly increase in computational complexity, so please ensure you select something feasible.\n"
      ],
      "metadata": {
        "id": "riSzymJZZ2ET"
      }
    },
    {
      "cell_type": "markdown",
      "source": [
        "*Paper is comprehensively described, and its contributions clearly understood.\n",
        "Algorithm is accurately reproduced. Results are comprehensively analysed and compared with paper.*\n"
      ],
      "metadata": {
        "id": "2FBRu1PRatzL"
      }
    },
    {
      "cell_type": "markdown",
      "source": [
        "## **Section 6 : Algorithms from Paper**\n",
        "\n",
        "---\n",
        "\n"
      ],
      "metadata": {
        "id": "DB8GT7-WUDN-"
      }
    },
    {
      "cell_type": "code",
      "source": [
        "#Implement the algorithm as described in the paper."
      ],
      "metadata": {
        "id": "kJhDqvTbWrpm"
      },
      "execution_count": null,
      "outputs": []
    },
    {
      "cell_type": "markdown",
      "source": [
        "## **Section 7 : Evaluation of Implementation**\n",
        "\n",
        "---\n",
        "\n"
      ],
      "metadata": {
        "id": "VmKaZBrLUDRk"
      }
    },
    {
      "cell_type": "markdown",
      "source": [
        "Analyse the results, highlighting and explaining any inconsistencies with those reported in the paper. (200 Words)\n"
      ],
      "metadata": {
        "id": "N-ldvVSaWwXv"
      }
    },
    {
      "cell_type": "code",
      "source": [
        "#Evaluate the implementation using the same performance metric(s) as the selected paper."
      ],
      "metadata": {
        "id": "_5vWsfUsWxws"
      },
      "execution_count": null,
      "outputs": []
    }
  ]
}