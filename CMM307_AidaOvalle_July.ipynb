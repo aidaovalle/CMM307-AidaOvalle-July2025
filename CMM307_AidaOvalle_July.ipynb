{
  "nbformat": 4,
  "nbformat_minor": 0,
  "metadata": {
    "colab": {
      "provenance": [],
      "collapsed_sections": [
        "fkxWkF15Sj8J",
        "ccttf91yUB5a",
        "DB8GT7-WUDN-",
        "VmKaZBrLUDRk"
      ]
    },
    "kernelspec": {
      "name": "python3",
      "display_name": "Python 3"
    },
    "language_info": {
      "name": "python"
    }
  },
  "cells": [
    {
      "cell_type": "markdown",
      "source": [
        "# **Advanced Artificial Intelligence Coursework - Aida Ovalle Filippova (2006512)**\n",
        "\n",
        "---\n",
        "\n"
      ],
      "metadata": {
        "id": "hm7h5_pETlUb"
      }
    },
    {
      "cell_type": "markdown",
      "source": [
        "## **Section 1 : Dataset**\n",
        "\n",
        "---\n",
        "\n"
      ],
      "metadata": {
        "id": "0NOcrOXyTsdT"
      }
    },
    {
      "cell_type": "markdown",
      "source": [
        "The IMDB Movie Review dataset is a popular dataset used for sentiment analysis, with 50.000 reviews labelled as either \"positive\" or \"negative\". There is an equal number of reviews for each class.\n",
        "\n",
        "In this project, the goal is to build a system that can predict the sentiment of a review based on the text. This is quite common for an NLP task and it's useful for real applications such as analysing customer feedback, product reviews, or social media comments. Using NLP will automate the process of understanding large amounts of text, which would take a long time to analyse manually."
      ],
      "metadata": {
        "id": "HyRP8a7t69cF"
      }
    },
    {
      "cell_type": "markdown",
      "source": [
        "Dataset Link: https://www.kaggle.com/datasets/lakshmi25npathi/imdb-dataset-of-50k-movie-reviews?resource=download\n",
        "\n",
        "Paper Link: https://arxiv.org/pdf/1412.1058v2"
      ],
      "metadata": {
        "id": "qo4zmgaw8k0o"
      }
    },
    {
      "cell_type": "code",
      "source": [
        "#Environment Setup (Only run if Gensim or Numpy throws errors)\n",
        "\n",
        "INSTALL_DEPENDENCIES = False  #Set to True ONLY if packages are missing or broken\n",
        "\n",
        "if INSTALL_DEPENDENCIES:\n",
        "    !pip install --no-cache-dir gensim==4.3.1 numpy==1.23.5 scipy==1.10.1\n",
        "\n",
        "\"\"\"\n",
        "NOTES:\n",
        "This notebook has been tested with:\n",
        "- gensim==4.3.1\n",
        "- numpy==1.23.5\n",
        "- scipy==1.10.1\n",
        "\n",
        "If you see an error like:\n",
        "    ValueError: numpy.dtype size changed...\n",
        "Then:\n",
        "1. Set INSTALL_DEPENDENCIES = True\n",
        "2. Run this cell\n",
        "3. Restart the runtime\n",
        "4. Set INSTALL_DEPENDENCIES = False again\n",
        "5. Run all cells from the top\n",
        "\"\"\"\n"
      ],
      "metadata": {
        "id": "tkmIyy4XrUce",
        "colab": {
          "base_uri": "https://localhost:8080/",
          "height": 87
        },
        "outputId": "e974561b-9eec-4c25-cd29-8b32c3cbfd63"
      },
      "execution_count": 1,
      "outputs": [
        {
          "output_type": "execute_result",
          "data": {
            "text/plain": [
              "'\\nNOTES:\\nThis notebook has been tested with:\\n- gensim==4.3.1\\n- numpy==1.23.5\\n- scipy==1.10.1\\n\\nIf you see an error like:\\n    ValueError: numpy.dtype size changed...\\nThen:\\n1. Set INSTALL_DEPENDENCIES = True\\n2. Run this cell\\n3. Restart the runtime\\n4. Set INSTALL_DEPENDENCIES = False again\\n5. Run all cells from the top\\n'"
            ],
            "application/vnd.google.colaboratory.intrinsic+json": {
              "type": "string"
            }
          },
          "metadata": {},
          "execution_count": 1
        }
      ]
    },
    {
      "cell_type": "code",
      "source": [
        "#Test environment setup\n",
        "try:\n",
        "    import gensim\n",
        "    import numpy as np\n",
        "    print(\"Setup successful: gensim and numpy are ready to use.\")\n",
        "except Exception as e:\n",
        "    print(\"Setup issue:\", e)\n"
      ],
      "metadata": {
        "colab": {
          "base_uri": "https://localhost:8080/"
        },
        "id": "rWE36bTwvqyX",
        "outputId": "f1ffc5e0-8c4d-485a-f262-7117f854855d"
      },
      "execution_count": 2,
      "outputs": [
        {
          "output_type": "stream",
          "name": "stdout",
          "text": [
            "Setup successful: gensim and numpy are ready to use.\n"
          ]
        }
      ]
    },
    {
      "cell_type": "code",
      "source": [
        "#Load the dataset\n",
        "import pandas as pd\n",
        "import numpy as np\n",
        "import io\n",
        "from google.colab import files\n",
        "\n",
        "df = pd.read_csv(\"IMDB Dataset.csv\")\n",
        "df.head()"
      ],
      "metadata": {
        "colab": {
          "base_uri": "https://localhost:8080/",
          "height": 206
        },
        "id": "Kt0ul4YOWJj7",
        "outputId": "6af85efa-1892-4249-9e55-3b9335c99f9e"
      },
      "execution_count": 3,
      "outputs": [
        {
          "output_type": "execute_result",
          "data": {
            "text/plain": [
              "                                              review sentiment\n",
              "0  One of the other reviewers has mentioned that ...  positive\n",
              "1  A wonderful little production. <br /><br />The...  positive\n",
              "2  I thought this was a wonderful way to spend ti...  positive\n",
              "3  Basically there's a family where a little boy ...  negative\n",
              "4  Petter Mattei's \"Love in the Time of Money\" is...  positive"
            ],
            "text/html": [
              "\n",
              "  <div id=\"df-11d0c7c6-a4f0-443b-b476-e6023545e305\" class=\"colab-df-container\">\n",
              "    <div>\n",
              "<style scoped>\n",
              "    .dataframe tbody tr th:only-of-type {\n",
              "        vertical-align: middle;\n",
              "    }\n",
              "\n",
              "    .dataframe tbody tr th {\n",
              "        vertical-align: top;\n",
              "    }\n",
              "\n",
              "    .dataframe thead th {\n",
              "        text-align: right;\n",
              "    }\n",
              "</style>\n",
              "<table border=\"1\" class=\"dataframe\">\n",
              "  <thead>\n",
              "    <tr style=\"text-align: right;\">\n",
              "      <th></th>\n",
              "      <th>review</th>\n",
              "      <th>sentiment</th>\n",
              "    </tr>\n",
              "  </thead>\n",
              "  <tbody>\n",
              "    <tr>\n",
              "      <th>0</th>\n",
              "      <td>One of the other reviewers has mentioned that ...</td>\n",
              "      <td>positive</td>\n",
              "    </tr>\n",
              "    <tr>\n",
              "      <th>1</th>\n",
              "      <td>A wonderful little production. &lt;br /&gt;&lt;br /&gt;The...</td>\n",
              "      <td>positive</td>\n",
              "    </tr>\n",
              "    <tr>\n",
              "      <th>2</th>\n",
              "      <td>I thought this was a wonderful way to spend ti...</td>\n",
              "      <td>positive</td>\n",
              "    </tr>\n",
              "    <tr>\n",
              "      <th>3</th>\n",
              "      <td>Basically there's a family where a little boy ...</td>\n",
              "      <td>negative</td>\n",
              "    </tr>\n",
              "    <tr>\n",
              "      <th>4</th>\n",
              "      <td>Petter Mattei's \"Love in the Time of Money\" is...</td>\n",
              "      <td>positive</td>\n",
              "    </tr>\n",
              "  </tbody>\n",
              "</table>\n",
              "</div>\n",
              "    <div class=\"colab-df-buttons\">\n",
              "\n",
              "  <div class=\"colab-df-container\">\n",
              "    <button class=\"colab-df-convert\" onclick=\"convertToInteractive('df-11d0c7c6-a4f0-443b-b476-e6023545e305')\"\n",
              "            title=\"Convert this dataframe to an interactive table.\"\n",
              "            style=\"display:none;\">\n",
              "\n",
              "  <svg xmlns=\"http://www.w3.org/2000/svg\" height=\"24px\" viewBox=\"0 -960 960 960\">\n",
              "    <path d=\"M120-120v-720h720v720H120Zm60-500h600v-160H180v160Zm220 220h160v-160H400v160Zm0 220h160v-160H400v160ZM180-400h160v-160H180v160Zm440 0h160v-160H620v160ZM180-180h160v-160H180v160Zm440 0h160v-160H620v160Z\"/>\n",
              "  </svg>\n",
              "    </button>\n",
              "\n",
              "  <style>\n",
              "    .colab-df-container {\n",
              "      display:flex;\n",
              "      gap: 12px;\n",
              "    }\n",
              "\n",
              "    .colab-df-convert {\n",
              "      background-color: #E8F0FE;\n",
              "      border: none;\n",
              "      border-radius: 50%;\n",
              "      cursor: pointer;\n",
              "      display: none;\n",
              "      fill: #1967D2;\n",
              "      height: 32px;\n",
              "      padding: 0 0 0 0;\n",
              "      width: 32px;\n",
              "    }\n",
              "\n",
              "    .colab-df-convert:hover {\n",
              "      background-color: #E2EBFA;\n",
              "      box-shadow: 0px 1px 2px rgba(60, 64, 67, 0.3), 0px 1px 3px 1px rgba(60, 64, 67, 0.15);\n",
              "      fill: #174EA6;\n",
              "    }\n",
              "\n",
              "    .colab-df-buttons div {\n",
              "      margin-bottom: 4px;\n",
              "    }\n",
              "\n",
              "    [theme=dark] .colab-df-convert {\n",
              "      background-color: #3B4455;\n",
              "      fill: #D2E3FC;\n",
              "    }\n",
              "\n",
              "    [theme=dark] .colab-df-convert:hover {\n",
              "      background-color: #434B5C;\n",
              "      box-shadow: 0px 1px 3px 1px rgba(0, 0, 0, 0.15);\n",
              "      filter: drop-shadow(0px 1px 2px rgba(0, 0, 0, 0.3));\n",
              "      fill: #FFFFFF;\n",
              "    }\n",
              "  </style>\n",
              "\n",
              "    <script>\n",
              "      const buttonEl =\n",
              "        document.querySelector('#df-11d0c7c6-a4f0-443b-b476-e6023545e305 button.colab-df-convert');\n",
              "      buttonEl.style.display =\n",
              "        google.colab.kernel.accessAllowed ? 'block' : 'none';\n",
              "\n",
              "      async function convertToInteractive(key) {\n",
              "        const element = document.querySelector('#df-11d0c7c6-a4f0-443b-b476-e6023545e305');\n",
              "        const dataTable =\n",
              "          await google.colab.kernel.invokeFunction('convertToInteractive',\n",
              "                                                    [key], {});\n",
              "        if (!dataTable) return;\n",
              "\n",
              "        const docLinkHtml = 'Like what you see? Visit the ' +\n",
              "          '<a target=\"_blank\" href=https://colab.research.google.com/notebooks/data_table.ipynb>data table notebook</a>'\n",
              "          + ' to learn more about interactive tables.';\n",
              "        element.innerHTML = '';\n",
              "        dataTable['output_type'] = 'display_data';\n",
              "        await google.colab.output.renderOutput(dataTable, element);\n",
              "        const docLink = document.createElement('div');\n",
              "        docLink.innerHTML = docLinkHtml;\n",
              "        element.appendChild(docLink);\n",
              "      }\n",
              "    </script>\n",
              "  </div>\n",
              "\n",
              "\n",
              "    <div id=\"df-674d944e-ecf3-4db0-9228-626125a4cdd1\">\n",
              "      <button class=\"colab-df-quickchart\" onclick=\"quickchart('df-674d944e-ecf3-4db0-9228-626125a4cdd1')\"\n",
              "                title=\"Suggest charts\"\n",
              "                style=\"display:none;\">\n",
              "\n",
              "<svg xmlns=\"http://www.w3.org/2000/svg\" height=\"24px\"viewBox=\"0 0 24 24\"\n",
              "     width=\"24px\">\n",
              "    <g>\n",
              "        <path d=\"M19 3H5c-1.1 0-2 .9-2 2v14c0 1.1.9 2 2 2h14c1.1 0 2-.9 2-2V5c0-1.1-.9-2-2-2zM9 17H7v-7h2v7zm4 0h-2V7h2v10zm4 0h-2v-4h2v4z\"/>\n",
              "    </g>\n",
              "</svg>\n",
              "      </button>\n",
              "\n",
              "<style>\n",
              "  .colab-df-quickchart {\n",
              "      --bg-color: #E8F0FE;\n",
              "      --fill-color: #1967D2;\n",
              "      --hover-bg-color: #E2EBFA;\n",
              "      --hover-fill-color: #174EA6;\n",
              "      --disabled-fill-color: #AAA;\n",
              "      --disabled-bg-color: #DDD;\n",
              "  }\n",
              "\n",
              "  [theme=dark] .colab-df-quickchart {\n",
              "      --bg-color: #3B4455;\n",
              "      --fill-color: #D2E3FC;\n",
              "      --hover-bg-color: #434B5C;\n",
              "      --hover-fill-color: #FFFFFF;\n",
              "      --disabled-bg-color: #3B4455;\n",
              "      --disabled-fill-color: #666;\n",
              "  }\n",
              "\n",
              "  .colab-df-quickchart {\n",
              "    background-color: var(--bg-color);\n",
              "    border: none;\n",
              "    border-radius: 50%;\n",
              "    cursor: pointer;\n",
              "    display: none;\n",
              "    fill: var(--fill-color);\n",
              "    height: 32px;\n",
              "    padding: 0;\n",
              "    width: 32px;\n",
              "  }\n",
              "\n",
              "  .colab-df-quickchart:hover {\n",
              "    background-color: var(--hover-bg-color);\n",
              "    box-shadow: 0 1px 2px rgba(60, 64, 67, 0.3), 0 1px 3px 1px rgba(60, 64, 67, 0.15);\n",
              "    fill: var(--button-hover-fill-color);\n",
              "  }\n",
              "\n",
              "  .colab-df-quickchart-complete:disabled,\n",
              "  .colab-df-quickchart-complete:disabled:hover {\n",
              "    background-color: var(--disabled-bg-color);\n",
              "    fill: var(--disabled-fill-color);\n",
              "    box-shadow: none;\n",
              "  }\n",
              "\n",
              "  .colab-df-spinner {\n",
              "    border: 2px solid var(--fill-color);\n",
              "    border-color: transparent;\n",
              "    border-bottom-color: var(--fill-color);\n",
              "    animation:\n",
              "      spin 1s steps(1) infinite;\n",
              "  }\n",
              "\n",
              "  @keyframes spin {\n",
              "    0% {\n",
              "      border-color: transparent;\n",
              "      border-bottom-color: var(--fill-color);\n",
              "      border-left-color: var(--fill-color);\n",
              "    }\n",
              "    20% {\n",
              "      border-color: transparent;\n",
              "      border-left-color: var(--fill-color);\n",
              "      border-top-color: var(--fill-color);\n",
              "    }\n",
              "    30% {\n",
              "      border-color: transparent;\n",
              "      border-left-color: var(--fill-color);\n",
              "      border-top-color: var(--fill-color);\n",
              "      border-right-color: var(--fill-color);\n",
              "    }\n",
              "    40% {\n",
              "      border-color: transparent;\n",
              "      border-right-color: var(--fill-color);\n",
              "      border-top-color: var(--fill-color);\n",
              "    }\n",
              "    60% {\n",
              "      border-color: transparent;\n",
              "      border-right-color: var(--fill-color);\n",
              "    }\n",
              "    80% {\n",
              "      border-color: transparent;\n",
              "      border-right-color: var(--fill-color);\n",
              "      border-bottom-color: var(--fill-color);\n",
              "    }\n",
              "    90% {\n",
              "      border-color: transparent;\n",
              "      border-bottom-color: var(--fill-color);\n",
              "    }\n",
              "  }\n",
              "</style>\n",
              "\n",
              "      <script>\n",
              "        async function quickchart(key) {\n",
              "          const quickchartButtonEl =\n",
              "            document.querySelector('#' + key + ' button');\n",
              "          quickchartButtonEl.disabled = true;  // To prevent multiple clicks.\n",
              "          quickchartButtonEl.classList.add('colab-df-spinner');\n",
              "          try {\n",
              "            const charts = await google.colab.kernel.invokeFunction(\n",
              "                'suggestCharts', [key], {});\n",
              "          } catch (error) {\n",
              "            console.error('Error during call to suggestCharts:', error);\n",
              "          }\n",
              "          quickchartButtonEl.classList.remove('colab-df-spinner');\n",
              "          quickchartButtonEl.classList.add('colab-df-quickchart-complete');\n",
              "        }\n",
              "        (() => {\n",
              "          let quickchartButtonEl =\n",
              "            document.querySelector('#df-674d944e-ecf3-4db0-9228-626125a4cdd1 button');\n",
              "          quickchartButtonEl.style.display =\n",
              "            google.colab.kernel.accessAllowed ? 'block' : 'none';\n",
              "        })();\n",
              "      </script>\n",
              "    </div>\n",
              "\n",
              "    </div>\n",
              "  </div>\n"
            ],
            "application/vnd.google.colaboratory.intrinsic+json": {
              "type": "dataframe",
              "variable_name": "df",
              "summary": "{\n  \"name\": \"df\",\n  \"rows\": 50000,\n  \"fields\": [\n    {\n      \"column\": \"review\",\n      \"properties\": {\n        \"dtype\": \"string\",\n        \"num_unique_values\": 49582,\n        \"samples\": [\n          \"\\\"Soul Plane\\\" is a horrible attempt at comedy that only should appeal people with thick skulls, bloodshot eyes and furry pawns. <br /><br />The plot is not only incoherent but also non-existent, acting is mostly sub sub-par with a gang of highly moronic and dreadful characters thrown in for bad measure, jokes are often spotted miles ahead and almost never even a bit amusing. This movie lacks any structure and is full of racial stereotypes that must have seemed old even in the fifties, the only thing it really has going for it is some pretty ladies, but really, if you want that you can rent something from the \\\"Adult\\\" section. OK?<br /><br />I can hardly see anything here to recommend since you'll probably have a lot a better and productive time chasing rats with a sledgehammer or inventing waterproof teabags or whatever.<br /><br />2/10\",\n          \"Guest from the Future tells a fascinating story of time travel, friendship, battle of good and evil -- all with a small budget, child actors, and few special effects. Something for Spielberg and Lucas to learn from. ;) A sixth-grader Kolya \\\"Nick\\\" Gerasimov finds a time machine in the basement of a decrepit building and travels 100 years into the future. He discovers a near-perfect, utopian society where robots play guitars and write poetry, everyone is kind to each other and people enjoy everything technology has to offer. Alice is the daughter of a prominent scientist who invented a device called Mielophone that allows to read minds of humans and animals. The device can be put to both good and bad use, depending on whose hands it falls into. When two evil space pirates from Saturn who want to rule the universe attempt to steal Mielophone, it falls into the hands of 20th century school boy Nick. With the pirates hot on his tracks, he travels back to his time, followed by the pirates, and Alice. Chaos, confusion and funny situations follow as the luckless pirates try to blend in with the earthlings. Alice enrolls in the same school Nick goes to and demonstrates superhuman abilities in PE class. The catch is, Alice doesn't know what Nick looks like, while the pirates do. Also, the pirates are able to change their appearance and turn literally into anyone. (Hmm, I wonder if this is where James Cameron got the idea for Terminator...) Who gets to Nick -- and Mielophone -- first? Excellent plot, non-stop adventures, and great soundtrack. I wish Hollywood made kid movies like this one...\",\n          \"\\\"National Treasure\\\" (2004) is a thoroughly misguided hodge-podge of plot entanglements that borrow from nearly every cloak and dagger government conspiracy clich\\u00e9 that has ever been written. The film stars Nicholas Cage as Benjamin Franklin Gates (how precious is that, I ask you?); a seemingly normal fellow who, for no other reason than being of a lineage of like-minded misguided fortune hunters, decides to steal a 'national treasure' that has been hidden by the United States founding fathers. After a bit of subtext and background that plays laughably (unintentionally) like Indiana Jones meets The Patriot, the film degenerates into one misguided whimsy after another \\u0096 attempting to create a 'Stanley Goodspeed' regurgitation of Nicholas Cage and launch the whole convoluted mess forward with a series of high octane, but disconnected misadventures.<br /><br />The relevancy and logic to having George Washington and his motley crew of patriots burying a king's ransom someplace on native soil, and then, going through the meticulous plan of leaving clues scattered throughout U.S. currency art work, is something that director Jon Turteltaub never quite gets around to explaining. Couldn't Washington found better usage for such wealth during the start up of the country? Hence, we are left with a mystery built on top of an enigma that is already on shaky ground by the time Ben appoints himself the new custodian of this untold wealth. Ben's intentions are noble \\u0096 if confusing. He's set on protecting the treasure. For who and when?\\u0085your guess is as good as mine.<br /><br />But there are a few problems with Ben's crusade. First up, his friend, Ian Holmes (Sean Bean) decides that he can't wait for Ben to make up his mind about stealing the Declaration of Independence from the National Archives (oh, yeah \\u0096 brilliant idea!). Presumably, the back of that famous document holds the secret answer to the ultimate fortune. So Ian tries to kill Ben. The assassination attempt is, of course, unsuccessful, if overly melodramatic. It also affords Ben the opportunity to pick up, and pick on, the very sultry curator of the archives, Abigail Chase (Diane Kruger). She thinks Ben is clearly a nut \\u0096 at least at the beginning. But true to action/romance form, Abby's resolve melts quicker than you can say, \\\"is that the Hope Diamond?\\\" The film moves into full X-File-ish mode, as the FBI, mistakenly believing that Ben is behind the theft, retaliate in various benign ways that lead to a multi-layering of action sequences reminiscent of Mission Impossible meets The Fugitive. Honestly, don't those guys ever get 'intelligence' information that is correct? In the final analysis, \\\"National Treasure\\\" isn't great film making, so much as it's a patchwork rehash of tired old bits from other movies, woven together from scraps, the likes of which would make IL' Betsy Ross blush.<br /><br />The Buena Vista DVD delivers a far more generous treatment than this film is deserving of. The anamorphic widescreen picture exhibits a very smooth and finely detailed image with very rich colors, natural flesh tones, solid blacks and clean whites. The stylized image is also free of blemishes and digital enhancements. The audio is 5.1 and delivers a nice sonic boom to your side and rear speakers with intensity and realism. Extras include a host of promotional junket material that is rather deep and over the top in its explanation of how and why this film was made. If only, as an audience, we had had more clarification as to why Ben and co. were chasing after an illusive treasure, this might have been one good flick. Extras conclude with the theatrical trailer, audio commentary and deleted scenes. Not for the faint-hearted \\u0096 just the thick-headed.\"\n        ],\n        \"semantic_type\": \"\",\n        \"description\": \"\"\n      }\n    },\n    {\n      \"column\": \"sentiment\",\n      \"properties\": {\n        \"dtype\": \"category\",\n        \"num_unique_values\": 2,\n        \"samples\": [\n          \"negative\",\n          \"positive\"\n        ],\n        \"semantic_type\": \"\",\n        \"description\": \"\"\n      }\n    }\n  ]\n}"
            }
          },
          "metadata": {},
          "execution_count": 3
        }
      ]
    },
    {
      "cell_type": "code",
      "source": [
        "#Check the Class Distribution\n",
        "import matplotlib.pyplot as plt\n",
        "import seaborn as sns\n",
        "\n",
        "sns.countplot(data=df, x=\"sentiment\", hue=\"sentiment\", palette=\"pastel\")\n",
        "plt.title(\"Distribution of Sentiment Classes\")\n",
        "plt.xlabel(\"Sentiment\")\n",
        "plt.ylabel(\"Number of Reviews\")\n",
        "plt.show()"
      ],
      "metadata": {
        "colab": {
          "base_uri": "https://localhost:8080/",
          "height": 472
        },
        "id": "fXLOdKKOjQqf",
        "outputId": "d2e68654-07e3-4cab-8f96-3a57085d1873"
      },
      "execution_count": 4,
      "outputs": [
        {
          "output_type": "display_data",
          "data": {
            "text/plain": [
              "<Figure size 640x480 with 1 Axes>"
            ],
            "image/png": "[encoded data removed]"
          },
          "metadata": {}
        }
      ]
    },
    {
      "cell_type": "markdown",
      "source": [
        "The Class Distribution plot above shows that the dataset is evenly split between positive and negative reviews, with no class bias."
      ],
      "metadata": {
        "id": "CHV4YfolmOci"
      }
    },
    {
      "cell_type": "markdown",
      "source": [
        "To begin exploration, the average review length (in words) is analysed to understand the distribution of input sizes, and it is seen that most reviews are less than 500 words."
      ],
      "metadata": {
        "id": "D4iUz53dB91J"
      }
    },
    {
      "cell_type": "code",
      "source": [
        "#Check the average review length\n",
        "\n",
        "#New column for review length\n",
        "df[\"review_length\"] = df[\"review\"].apply(lambda x: len(x.split()))\n",
        "\n",
        "sns.histplot(df[\"review_length\"], bins=50, kde=True, color=\"orchid\")\n",
        "plt.title(\"Distribution of Review Length (Words)\")\n",
        "plt.xlabel(\"Number of Words\")\n",
        "plt.ylabel(\"Number of Reviews\")\n",
        "plt.show()\n",
        "\n",
        "df.head()"
      ],
      "metadata": {
        "colab": {
          "base_uri": "https://localhost:8080/",
          "height": 661
        },
        "id": "7QRdIoF-meUR",
        "outputId": "a381bd28-765f-4a62-c583-c2cb34c06e6a"
      },
      "execution_count": 5,
      "outputs": [
        {
          "output_type": "display_data",
          "data": {
            "text/plain": [
              "<Figure size 640x480 with 1 Axes>"
            ],
            "image/png": "[encoded data removed]"
          },
          "metadata": {}
        },
        {
          "output_type": "execute_result",
          "data": {
            "text/plain": [
              "                                              review sentiment  review_length\n",
              "0  One of the other reviewers has mentioned that ...  positive            307\n",
              "1  A wonderful little production. <br /><br />The...  positive            162\n",
              "2  I thought this was a wonderful way to spend ti...  positive            166\n",
              "3  Basically there's a family where a little boy ...  negative            138\n",
              "4  Petter Mattei's \"Love in the Time of Money\" is...  positive            230"
            ],
            "text/html": [
              "\n",
              "  <div id=\"df-d71ab40c-923f-4814-ace2-fdafe8ee1418\" class=\"colab-df-container\">\n",
              "    <div>\n",
              "<style scoped>\n",
              "    .dataframe tbody tr th:only-of-type {\n",
              "        vertical-align: middle;\n",
              "    }\n",
              "\n",
              "    .dataframe tbody tr th {\n",
              "        vertical-align: top;\n",
              "    }\n",
              "\n",
              "    .dataframe thead th {\n",
              "        text-align: right;\n",
              "    }\n",
              "</style>\n",
              "<table border=\"1\" class=\"dataframe\">\n",
              "  <thead>\n",
              "    <tr style=\"text-align: right;\">\n",
              "      <th></th>\n",
              "      <th>review</th>\n",
              "      <th>sentiment</th>\n",
              "      <th>review_length</th>\n",
              "    </tr>\n",
              "  </thead>\n",
              "  <tbody>\n",
              "    <tr>\n",
              "      <th>0</th>\n",
              "      <td>One of the other reviewers has mentioned that ...</td>\n",
              "      <td>positive</td>\n",
              "      <td>307</td>\n",
              "    </tr>\n",
              "    <tr>\n",
              "      <th>1</th>\n",
              "      <td>A wonderful little production. &lt;br /&gt;&lt;br /&gt;The...</td>\n",
              "      <td>positive</td>\n",
              "      <td>162</td>\n",
              "    </tr>\n",
              "    <tr>\n",
              "      <th>2</th>\n",
              "      <td>I thought this was a wonderful way to spend ti...</td>\n",
              "      <td>positive</td>\n",
              "      <td>166</td>\n",
              "    </tr>\n",
              "    <tr>\n",
              "      <th>3</th>\n",
              "      <td>Basically there's a family where a little boy ...</td>\n",
              "      <td>negative</td>\n",
              "      <td>138</td>\n",
              "    </tr>\n",
              "    <tr>\n",
              "      <th>4</th>\n",
              "      <td>Petter Mattei's \"Love in the Time of Money\" is...</td>\n",
              "      <td>positive</td>\n",
              "      <td>230</td>\n",
              "    </tr>\n",
              "  </tbody>\n",
              "</table>\n",
              "</div>\n",
              "    <div class=\"colab-df-buttons\">\n",
              "\n",
              "  <div class=\"colab-df-container\">\n",
              "    <button class=\"colab-df-convert\" onclick=\"convertToInteractive('df-d71ab40c-923f-4814-ace2-fdafe8ee1418')\"\n",
              "            title=\"Convert this dataframe to an interactive table.\"\n",
              "            style=\"display:none;\">\n",
              "\n",
              "  <svg xmlns=\"http://www.w3.org/2000/svg\" height=\"24px\" viewBox=\"0 -960 960 960\">\n",
              "    <path d=\"M120-120v-720h720v720H120Zm60-500h600v-160H180v160Zm220 220h160v-160H400v160Zm0 220h160v-160H400v160ZM180-400h160v-160H180v160Zm440 0h160v-160H620v160ZM180-180h160v-160H180v160Zm440 0h160v-160H620v160Z\"/>\n",
              "  </svg>\n",
              "    </button>\n",
              "\n",
              "  <style>\n",
              "    .colab-df-container {\n",
              "      display:flex;\n",
              "      gap: 12px;\n",
              "    }\n",
              "\n",
              "    .colab-df-convert {\n",
              "      background-color: #E8F0FE;\n",
              "      border: none;\n",
              "      border-radius: 50%;\n",
              "      cursor: pointer;\n",
              "      display: none;\n",
              "      fill: #1967D2;\n",
              "      height: 32px;\n",
              "      padding: 0 0 0 0;\n",
              "      width: 32px;\n",
              "    }\n",
              "\n",
              "    .colab-df-convert:hover {\n",
              "      background-color: #E2EBFA;\n",
              "      box-shadow: 0px 1px 2px rgba(60, 64, 67, 0.3), 0px 1px 3px 1px rgba(60, 64, 67, 0.15);\n",
              "      fill: #174EA6;\n",
              "    }\n",
              "\n",
              "    .colab-df-buttons div {\n",
              "      margin-bottom: 4px;\n",
              "    }\n",
              "\n",
              "    [theme=dark] .colab-df-convert {\n",
              "      background-color: #3B4455;\n",
              "      fill: #D2E3FC;\n",
              "    }\n",
              "\n",
              "    [theme=dark] .colab-df-convert:hover {\n",
              "      background-color: #434B5C;\n",
              "      box-shadow: 0px 1px 3px 1px rgba(0, 0, 0, 0.15);\n",
              "      filter: drop-shadow(0px 1px 2px rgba(0, 0, 0, 0.3));\n",
              "      fill: #FFFFFF;\n",
              "    }\n",
              "  </style>\n",
              "\n",
              "    <script>\n",
              "      const buttonEl =\n",
              "        document.querySelector('#df-d71ab40c-923f-4814-ace2-fdafe8ee1418 button.colab-df-convert');\n",
              "      buttonEl.style.display =\n",
              "        google.colab.kernel.accessAllowed ? 'block' : 'none';\n",
              "\n",
              "      async function convertToInteractive(key) {\n",
              "        const element = document.querySelector('#df-d71ab40c-923f-4814-ace2-fdafe8ee1418');\n",
              "        const dataTable =\n",
              "          await google.colab.kernel.invokeFunction('convertToInteractive',\n",
              "                                                    [key], {});\n",
              "        if (!dataTable) return;\n",
              "\n",
              "        const docLinkHtml = 'Like what you see? Visit the ' +\n",
              "          '<a target=\"_blank\" href=https://colab.research.google.com/notebooks/data_table.ipynb>data table notebook</a>'\n",
              "          + ' to learn more about interactive tables.';\n",
              "        element.innerHTML = '';\n",
              "        dataTable['output_type'] = 'display_data';\n",
              "        await google.colab.output.renderOutput(dataTable, element);\n",
              "        const docLink = document.createElement('div');\n",
              "        docLink.innerHTML = docLinkHtml;\n",
              "        element.appendChild(docLink);\n",
              "      }\n",
              "    </script>\n",
              "  </div>\n",
              "\n",
              "\n",
              "    <div id=\"df-b5011bd7-df6e-4349-8824-c6609c946361\">\n",
              "      <button class=\"colab-df-quickchart\" onclick=\"quickchart('df-b5011bd7-df6e-4349-8824-c6609c946361')\"\n",
              "                title=\"Suggest charts\"\n",
              "                style=\"display:none;\">\n",
              "\n",
              "<svg xmlns=\"http://www.w3.org/2000/svg\" height=\"24px\"viewBox=\"0 0 24 24\"\n",
              "     width=\"24px\">\n",
              "    <g>\n",
              "        <path d=\"M19 3H5c-1.1 0-2 .9-2 2v14c0 1.1.9 2 2 2h14c1.1 0 2-.9 2-2V5c0-1.1-.9-2-2-2zM9 17H7v-7h2v7zm4 0h-2V7h2v10zm4 0h-2v-4h2v4z\"/>\n",
              "    </g>\n",
              "</svg>\n",
              "      </button>\n",
              "\n",
              "<style>\n",
              "  .colab-df-quickchart {\n",
              "      --bg-color: #E8F0FE;\n",
              "      --fill-color: #1967D2;\n",
              "      --hover-bg-color: #E2EBFA;\n",
              "      --hover-fill-color: #174EA6;\n",
              "      --disabled-fill-color: #AAA;\n",
              "      --disabled-bg-color: #DDD;\n",
              "  }\n",
              "\n",
              "  [theme=dark] .colab-df-quickchart {\n",
              "      --bg-color: #3B4455;\n",
              "      --fill-color: #D2E3FC;\n",
              "      --hover-bg-color: #434B5C;\n",
              "      --hover-fill-color: #FFFFFF;\n",
              "      --disabled-bg-color: #3B4455;\n",
              "      --disabled-fill-color: #666;\n",
              "  }\n",
              "\n",
              "  .colab-df-quickchart {\n",
              "    background-color: var(--bg-color);\n",
              "    border: none;\n",
              "    border-radius: 50%;\n",
              "    cursor: pointer;\n",
              "    display: none;\n",
              "    fill: var(--fill-color);\n",
              "    height: 32px;\n",
              "    padding: 0;\n",
              "    width: 32px;\n",
              "  }\n",
              "\n",
              "  .colab-df-quickchart:hover {\n",
              "    background-color: var(--hover-bg-color);\n",
              "    box-shadow: 0 1px 2px rgba(60, 64, 67, 0.3), 0 1px 3px 1px rgba(60, 64, 67, 0.15);\n",
              "    fill: var(--button-hover-fill-color);\n",
              "  }\n",
              "\n",
              "  .colab-df-quickchart-complete:disabled,\n",
              "  .colab-df-quickchart-complete:disabled:hover {\n",
              "    background-color: var(--disabled-bg-color);\n",
              "    fill: var(--disabled-fill-color);\n",
              "    box-shadow: none;\n",
              "  }\n",
              "\n",
              "  .colab-df-spinner {\n",
              "    border: 2px solid var(--fill-color);\n",
              "    border-color: transparent;\n",
              "    border-bottom-color: var(--fill-color);\n",
              "    animation:\n",
              "      spin 1s steps(1) infinite;\n",
              "  }\n",
              "\n",
              "  @keyframes spin {\n",
              "    0% {\n",
              "      border-color: transparent;\n",
              "      border-bottom-color: var(--fill-color);\n",
              "      border-left-color: var(--fill-color);\n",
              "    }\n",
              "    20% {\n",
              "      border-color: transparent;\n",
              "      border-left-color: var(--fill-color);\n",
              "      border-top-color: var(--fill-color);\n",
              "    }\n",
              "    30% {\n",
              "      border-color: transparent;\n",
              "      border-left-color: var(--fill-color);\n",
              "      border-top-color: var(--fill-color);\n",
              "      border-right-color: var(--fill-color);\n",
              "    }\n",
              "    40% {\n",
              "      border-color: transparent;\n",
              "      border-right-color: var(--fill-color);\n",
              "      border-top-color: var(--fill-color);\n",
              "    }\n",
              "    60% {\n",
              "      border-color: transparent;\n",
              "      border-right-color: var(--fill-color);\n",
              "    }\n",
              "    80% {\n",
              "      border-color: transparent;\n",
              "      border-right-color: var(--fill-color);\n",
              "      border-bottom-color: var(--fill-color);\n",
              "    }\n",
              "    90% {\n",
              "      border-color: transparent;\n",
              "      border-bottom-color: var(--fill-color);\n",
              "    }\n",
              "  }\n",
              "</style>\n",
              "\n",
              "      <script>\n",
              "        async function quickchart(key) {\n",
              "          const quickchartButtonEl =\n",
              "            document.querySelector('#' + key + ' button');\n",
              "          quickchartButtonEl.disabled = true;  // To prevent multiple clicks.\n",
              "          quickchartButtonEl.classList.add('colab-df-spinner');\n",
              "          try {\n",
              "            const charts = await google.colab.kernel.invokeFunction(\n",
              "                'suggestCharts', [key], {});\n",
              "          } catch (error) {\n",
              "            console.error('Error during call to suggestCharts:', error);\n",
              "          }\n",
              "          quickchartButtonEl.classList.remove('colab-df-spinner');\n",
              "          quickchartButtonEl.classList.add('colab-df-quickchart-complete');\n",
              "        }\n",
              "        (() => {\n",
              "          let quickchartButtonEl =\n",
              "            document.querySelector('#df-b5011bd7-df6e-4349-8824-c6609c946361 button');\n",
              "          quickchartButtonEl.style.display =\n",
              "            google.colab.kernel.accessAllowed ? 'block' : 'none';\n",
              "        })();\n",
              "      </script>\n",
              "    </div>\n",
              "\n",
              "    </div>\n",
              "  </div>\n"
            ],
            "application/vnd.google.colaboratory.intrinsic+json": {
              "type": "dataframe",
              "variable_name": "df",
              "summary": "{\n  \"name\": \"df\",\n  \"rows\": 50000,\n  \"fields\": [\n    {\n      \"column\": \"review\",\n      \"properties\": {\n        \"dtype\": \"string\",\n        \"num_unique_values\": 49582,\n        \"samples\": [\n          \"\\\"Soul Plane\\\" is a horrible attempt at comedy that only should appeal people with thick skulls, bloodshot eyes and furry pawns. <br /><br />The plot is not only incoherent but also non-existent, acting is mostly sub sub-par with a gang of highly moronic and dreadful characters thrown in for bad measure, jokes are often spotted miles ahead and almost never even a bit amusing. This movie lacks any structure and is full of racial stereotypes that must have seemed old even in the fifties, the only thing it really has going for it is some pretty ladies, but really, if you want that you can rent something from the \\\"Adult\\\" section. OK?<br /><br />I can hardly see anything here to recommend since you'll probably have a lot a better and productive time chasing rats with a sledgehammer or inventing waterproof teabags or whatever.<br /><br />2/10\",\n          \"Guest from the Future tells a fascinating story of time travel, friendship, battle of good and evil -- all with a small budget, child actors, and few special effects. Something for Spielberg and Lucas to learn from. ;) A sixth-grader Kolya \\\"Nick\\\" Gerasimov finds a time machine in the basement of a decrepit building and travels 100 years into the future. He discovers a near-perfect, utopian society where robots play guitars and write poetry, everyone is kind to each other and people enjoy everything technology has to offer. Alice is the daughter of a prominent scientist who invented a device called Mielophone that allows to read minds of humans and animals. The device can be put to both good and bad use, depending on whose hands it falls into. When two evil space pirates from Saturn who want to rule the universe attempt to steal Mielophone, it falls into the hands of 20th century school boy Nick. With the pirates hot on his tracks, he travels back to his time, followed by the pirates, and Alice. Chaos, confusion and funny situations follow as the luckless pirates try to blend in with the earthlings. Alice enrolls in the same school Nick goes to and demonstrates superhuman abilities in PE class. The catch is, Alice doesn't know what Nick looks like, while the pirates do. Also, the pirates are able to change their appearance and turn literally into anyone. (Hmm, I wonder if this is where James Cameron got the idea for Terminator...) Who gets to Nick -- and Mielophone -- first? Excellent plot, non-stop adventures, and great soundtrack. I wish Hollywood made kid movies like this one...\",\n          \"\\\"National Treasure\\\" (2004) is a thoroughly misguided hodge-podge of plot entanglements that borrow from nearly every cloak and dagger government conspiracy clich\\u00e9 that has ever been written. The film stars Nicholas Cage as Benjamin Franklin Gates (how precious is that, I ask you?); a seemingly normal fellow who, for no other reason than being of a lineage of like-minded misguided fortune hunters, decides to steal a 'national treasure' that has been hidden by the United States founding fathers. After a bit of subtext and background that plays laughably (unintentionally) like Indiana Jones meets The Patriot, the film degenerates into one misguided whimsy after another \\u0096 attempting to create a 'Stanley Goodspeed' regurgitation of Nicholas Cage and launch the whole convoluted mess forward with a series of high octane, but disconnected misadventures.<br /><br />The relevancy and logic to having George Washington and his motley crew of patriots burying a king's ransom someplace on native soil, and then, going through the meticulous plan of leaving clues scattered throughout U.S. currency art work, is something that director Jon Turteltaub never quite gets around to explaining. Couldn't Washington found better usage for such wealth during the start up of the country? Hence, we are left with a mystery built on top of an enigma that is already on shaky ground by the time Ben appoints himself the new custodian of this untold wealth. Ben's intentions are noble \\u0096 if confusing. He's set on protecting the treasure. For who and when?\\u0085your guess is as good as mine.<br /><br />But there are a few problems with Ben's crusade. First up, his friend, Ian Holmes (Sean Bean) decides that he can't wait for Ben to make up his mind about stealing the Declaration of Independence from the National Archives (oh, yeah \\u0096 brilliant idea!). Presumably, the back of that famous document holds the secret answer to the ultimate fortune. So Ian tries to kill Ben. The assassination attempt is, of course, unsuccessful, if overly melodramatic. It also affords Ben the opportunity to pick up, and pick on, the very sultry curator of the archives, Abigail Chase (Diane Kruger). She thinks Ben is clearly a nut \\u0096 at least at the beginning. But true to action/romance form, Abby's resolve melts quicker than you can say, \\\"is that the Hope Diamond?\\\" The film moves into full X-File-ish mode, as the FBI, mistakenly believing that Ben is behind the theft, retaliate in various benign ways that lead to a multi-layering of action sequences reminiscent of Mission Impossible meets The Fugitive. Honestly, don't those guys ever get 'intelligence' information that is correct? In the final analysis, \\\"National Treasure\\\" isn't great film making, so much as it's a patchwork rehash of tired old bits from other movies, woven together from scraps, the likes of which would make IL' Betsy Ross blush.<br /><br />The Buena Vista DVD delivers a far more generous treatment than this film is deserving of. The anamorphic widescreen picture exhibits a very smooth and finely detailed image with very rich colors, natural flesh tones, solid blacks and clean whites. The stylized image is also free of blemishes and digital enhancements. The audio is 5.1 and delivers a nice sonic boom to your side and rear speakers with intensity and realism. Extras include a host of promotional junket material that is rather deep and over the top in its explanation of how and why this film was made. If only, as an audience, we had had more clarification as to why Ben and co. were chasing after an illusive treasure, this might have been one good flick. Extras conclude with the theatrical trailer, audio commentary and deleted scenes. Not for the faint-hearted \\u0096 just the thick-headed.\"\n        ],\n        \"semantic_type\": \"\",\n        \"description\": \"\"\n      }\n    },\n    {\n      \"column\": \"sentiment\",\n      \"properties\": {\n        \"dtype\": \"category\",\n        \"num_unique_values\": 2,\n        \"samples\": [\n          \"negative\",\n          \"positive\"\n        ],\n        \"semantic_type\": \"\",\n        \"description\": \"\"\n      }\n    },\n    {\n      \"column\": \"review_length\",\n      \"properties\": {\n        \"dtype\": \"number\",\n        \"std\": 171,\n        \"min\": 4,\n        \"max\": 2470,\n        \"num_unique_values\": 1047,\n        \"samples\": [\n          204,\n          661\n        ],\n        \"semantic_type\": \"\",\n        \"description\": \"\"\n      }\n    }\n  ]\n}"
            }
          },
          "metadata": {},
          "execution_count": 5
        }
      ]
    },
    {
      "cell_type": "markdown",
      "source": [
        "Finding out the most common words for each class is useful, as it would allow non-essential words to be removed and stop impacting the class distribution."
      ],
      "metadata": {
        "id": "t-ALtFisphzd"
      }
    },
    {
      "cell_type": "code",
      "source": [
        "#Check Top Words per Sentiment Class\n",
        "\n",
        "#Separate positive and negative reviews\n",
        "positive_reviews = df[df[\"sentiment\"] == \"positive\"]\n",
        "negative_reviews = df[df[\"sentiment\"] == \"negative\"]\n",
        "\n",
        "#Tokenize each review into words\n",
        "positive_words = \" \".join(positive_reviews[\"review\"]).lower().split()\n",
        "negative_words = \" \".join(negative_reviews[\"review\"]).lower().split()\n",
        "\n",
        "#Get 20 most common words in each\n",
        "from collections import Counter\n",
        "top_positive = Counter(positive_words).most_common(20)\n",
        "top_negative = Counter(negative_words).most_common(20)\n",
        "\n",
        "#Convert to a Data Frame for plotting\n",
        "top_positive_df = pd.DataFrame(top_positive, columns=[\"word\", \"count\"])\n",
        "top_negative_df = pd.DataFrame(top_negative, columns=[\"word\", \"count\"])\n",
        "\n",
        "# Plot\n",
        "fig, axes = plt.subplots(2, 1, figsize=(10, 10))\n",
        "sns.barplot(data=top_positive_df, x=\"count\", y=\"word\", ax=axes[0], color=\"lightgreen\")\n",
        "axes[0].set_title(\"Top 20 Words in Positive Reviews\")\n",
        "\n",
        "sns.barplot(data=top_negative_df, x=\"count\", y=\"word\", ax=axes[1], color=\"tomato\")\n",
        "axes[1].set_title(\"Top 20 Words in Negative Reviews\")\n",
        "\n",
        "plt.tight_layout()\n",
        "plt.show()\n"
      ],
      "metadata": {
        "colab": {
          "base_uri": "https://localhost:8080/",
          "height": 696
        },
        "id": "jN6QwWZqp-M5",
        "outputId": "ce70ecc1-1325-4650-9965-c37534cdbfb5"
      },
      "execution_count": 6,
      "outputs": [
        {
          "output_type": "display_data",
          "data": {
            "text/plain": [
              "<Figure size 1000x1000 with 2 Axes>"
            ],
            "image/png": "[encoded data removed]"
          },
          "metadata": {}
        }
      ]
    },
    {
      "cell_type": "markdown",
      "source": [
        "The most common words across both classes are meaningless, so these should be removed, along with the basic stopwords."
      ],
      "metadata": {
        "id": "DPYSg7rzu-1z"
      }
    },
    {
      "cell_type": "code",
      "source": [
        "#Preprocessing\n",
        "\n",
        "import re\n",
        "import string\n",
        "import nltk\n",
        "\n",
        "nltk.download('stopwords')\n",
        "\n",
        "from nltk.corpus import stopwords\n",
        "\n",
        "#Stopword list\n",
        "custom_stopwords = set([\"film\", \"movie\"])\n",
        "all_stopwords = set(stopwords.words(\"english\")).union(custom_stopwords)\n",
        "\n",
        "def clean_text(text):\n",
        "    text = text.lower()\n",
        "    text = re.sub(r\"<br\\s*/?>\", \" \", text)  #Remove <br>, <br/>, <br />\n",
        "    text = re.sub(f\"[{re.escape(string.punctuation)}]\", \"\", text)  #Get rid of punctuation\n",
        "    words = text.split()\n",
        "    words = [word for word in words if word not in all_stopwords]  #Remove all stopwords\n",
        "    return \" \".join(words)\n",
        "\n",
        "#Apply data cleaning\n",
        "df[\"clean_review\"] = df[\"review\"].apply(clean_text)\n",
        "df[\"clean_tokens\"] = df[\"clean_review\"].apply(lambda x: x.split())\n",
        "\n",
        "df[[\"review\", \"clean_review\"]].head()\n"
      ],
      "metadata": {
        "colab": {
          "base_uri": "https://localhost:8080/",
          "height": 310
        },
        "id": "r5XeoVjAnzi1",
        "outputId": "bc2060b0-8615-45b5-b203-99117653b5e2"
      },
      "execution_count": 7,
      "outputs": [
        {
          "output_type": "stream",
          "name": "stderr",
          "text": [
            "[nltk_data] Downloading package stopwords to /root/nltk_data...\n",
            "[nltk_data]   Package stopwords is already up-to-date!\n"
          ]
        },
        {
          "output_type": "execute_result",
          "data": {
            "text/plain": [
              "                                              review  \\\n",
              "0  One of the other reviewers has mentioned that ...   \n",
              "1  A wonderful little production. <br /><br />The...   \n",
              "2  I thought this was a wonderful way to spend ti...   \n",
              "3  Basically there's a family where a little boy ...   \n",
              "4  Petter Mattei's \"Love in the Time of Money\" is...   \n",
              "\n",
              "                                        clean_review  \n",
              "0  one reviewers mentioned watching 1 oz episode ...  \n",
              "1  wonderful little production filming technique ...  \n",
              "2  thought wonderful way spend time hot summer we...  \n",
              "3  basically theres family little boy jake thinks...  \n",
              "4  petter matteis love time money visually stunni...  "
            ],
            "text/html": [
              "\n",
              "  <div id=\"df-b4cb814b-4be0-41b9-8f7e-e15129521e28\" class=\"colab-df-container\">\n",
              "    <div>\n",
              "<style scoped>\n",
              "    .dataframe tbody tr th:only-of-type {\n",
              "        vertical-align: middle;\n",
              "    }\n",
              "\n",
              "    .dataframe tbody tr th {\n",
              "        vertical-align: top;\n",
              "    }\n",
              "\n",
              "    .dataframe thead th {\n",
              "        text-align: right;\n",
              "    }\n",
              "</style>\n",
              "<table border=\"1\" class=\"dataframe\">\n",
              "  <thead>\n",
              "    <tr style=\"text-align: right;\">\n",
              "      <th></th>\n",
              "      <th>review</th>\n",
              "      <th>clean_review</th>\n",
              "    </tr>\n",
              "  </thead>\n",
              "  <tbody>\n",
              "    <tr>\n",
              "      <th>0</th>\n",
              "      <td>One of the other reviewers has mentioned that ...</td>\n",
              "      <td>one reviewers mentioned watching 1 oz episode ...</td>\n",
              "    </tr>\n",
              "    <tr>\n",
              "      <th>1</th>\n",
              "      <td>A wonderful little production. &lt;br /&gt;&lt;br /&gt;The...</td>\n",
              "      <td>wonderful little production filming technique ...</td>\n",
              "    </tr>\n",
              "    <tr>\n",
              "      <th>2</th>\n",
              "      <td>I thought this was a wonderful way to spend ti...</td>\n",
              "      <td>thought wonderful way spend time hot summer we...</td>\n",
              "    </tr>\n",
              "    <tr>\n",
              "      <th>3</th>\n",
              "      <td>Basically there's a family where a little boy ...</td>\n",
              "      <td>basically theres family little boy jake thinks...</td>\n",
              "    </tr>\n",
              "    <tr>\n",
              "      <th>4</th>\n",
              "      <td>Petter Mattei's \"Love in the Time of Money\" is...</td>\n",
              "      <td>petter matteis love time money visually stunni...</td>\n",
              "    </tr>\n",
              "  </tbody>\n",
              "</table>\n",
              "</div>\n",
              "    <div class=\"colab-df-buttons\">\n",
              "\n",
              "  <div class=\"colab-df-container\">\n",
              "    <button class=\"colab-df-convert\" onclick=\"convertToInteractive('df-b4cb814b-4be0-41b9-8f7e-e15129521e28')\"\n",
              "            title=\"Convert this dataframe to an interactive table.\"\n",
              "            style=\"display:none;\">\n",
              "\n",
              "  <svg xmlns=\"http://www.w3.org/2000/svg\" height=\"24px\" viewBox=\"0 -960 960 960\">\n",
              "    <path d=\"M120-120v-720h720v720H120Zm60-500h600v-160H180v160Zm220 220h160v-160H400v160Zm0 220h160v-160H400v160ZM180-400h160v-160H180v160Zm440 0h160v-160H620v160ZM180-180h160v-160H180v160Zm440 0h160v-160H620v160Z\"/>\n",
              "  </svg>\n",
              "    </button>\n",
              "\n",
              "  <style>\n",
              "    .colab-df-container {\n",
              "      display:flex;\n",
              "      gap: 12px;\n",
              "    }\n",
              "\n",
              "    .colab-df-convert {\n",
              "      background-color: #E8F0FE;\n",
              "      border: none;\n",
              "      border-radius: 50%;\n",
              "      cursor: pointer;\n",
              "      display: none;\n",
              "      fill: #1967D2;\n",
              "      height: 32px;\n",
              "      padding: 0 0 0 0;\n",
              "      width: 32px;\n",
              "    }\n",
              "\n",
              "    .colab-df-convert:hover {\n",
              "      background-color: #E2EBFA;\n",
              "      box-shadow: 0px 1px 2px rgba(60, 64, 67, 0.3), 0px 1px 3px 1px rgba(60, 64, 67, 0.15);\n",
              "      fill: #174EA6;\n",
              "    }\n",
              "\n",
              "    .colab-df-buttons div {\n",
              "      margin-bottom: 4px;\n",
              "    }\n",
              "\n",
              "    [theme=dark] .colab-df-convert {\n",
              "      background-color: #3B4455;\n",
              "      fill: #D2E3FC;\n",
              "    }\n",
              "\n",
              "    [theme=dark] .colab-df-convert:hover {\n",
              "      background-color: #434B5C;\n",
              "      box-shadow: 0px 1px 3px 1px rgba(0, 0, 0, 0.15);\n",
              "      filter: drop-shadow(0px 1px 2px rgba(0, 0, 0, 0.3));\n",
              "      fill: #FFFFFF;\n",
              "    }\n",
              "  </style>\n",
              "\n",
              "    <script>\n",
              "      const buttonEl =\n",
              "        document.querySelector('#df-b4cb814b-4be0-41b9-8f7e-e15129521e28 button.colab-df-convert');\n",
              "      buttonEl.style.display =\n",
              "        google.colab.kernel.accessAllowed ? 'block' : 'none';\n",
              "\n",
              "      async function convertToInteractive(key) {\n",
              "        const element = document.querySelector('#df-b4cb814b-4be0-41b9-8f7e-e15129521e28');\n",
              "        const dataTable =\n",
              "          await google.colab.kernel.invokeFunction('convertToInteractive',\n",
              "                                                    [key], {});\n",
              "        if (!dataTable) return;\n",
              "\n",
              "        const docLinkHtml = 'Like what you see? Visit the ' +\n",
              "          '<a target=\"_blank\" href=https://colab.research.google.com/notebooks/data_table.ipynb>data table notebook</a>'\n",
              "          + ' to learn more about interactive tables.';\n",
              "        element.innerHTML = '';\n",
              "        dataTable['output_type'] = 'display_data';\n",
              "        await google.colab.output.renderOutput(dataTable, element);\n",
              "        const docLink = document.createElement('div');\n",
              "        docLink.innerHTML = docLinkHtml;\n",
              "        element.appendChild(docLink);\n",
              "      }\n",
              "    </script>\n",
              "  </div>\n",
              "\n",
              "\n",
              "    <div id=\"df-c3d60326-d015-443b-a6bc-5c6539ce4c5b\">\n",
              "      <button class=\"colab-df-quickchart\" onclick=\"quickchart('df-c3d60326-d015-443b-a6bc-5c6539ce4c5b')\"\n",
              "                title=\"Suggest charts\"\n",
              "                style=\"display:none;\">\n",
              "\n",
              "<svg xmlns=\"http://www.w3.org/2000/svg\" height=\"24px\"viewBox=\"0 0 24 24\"\n",
              "     width=\"24px\">\n",
              "    <g>\n",
              "        <path d=\"M19 3H5c-1.1 0-2 .9-2 2v14c0 1.1.9 2 2 2h14c1.1 0 2-.9 2-2V5c0-1.1-.9-2-2-2zM9 17H7v-7h2v7zm4 0h-2V7h2v10zm4 0h-2v-4h2v4z\"/>\n",
              "    </g>\n",
              "</svg>\n",
              "      </button>\n",
              "\n",
              "<style>\n",
              "  .colab-df-quickchart {\n",
              "      --bg-color: #E8F0FE;\n",
              "      --fill-color: #1967D2;\n",
              "      --hover-bg-color: #E2EBFA;\n",
              "      --hover-fill-color: #174EA6;\n",
              "      --disabled-fill-color: #AAA;\n",
              "      --disabled-bg-color: #DDD;\n",
              "  }\n",
              "\n",
              "  [theme=dark] .colab-df-quickchart {\n",
              "      --bg-color: #3B4455;\n",
              "      --fill-color: #D2E3FC;\n",
              "      --hover-bg-color: #434B5C;\n",
              "      --hover-fill-color: #FFFFFF;\n",
              "      --disabled-bg-color: #3B4455;\n",
              "      --disabled-fill-color: #666;\n",
              "  }\n",
              "\n",
              "  .colab-df-quickchart {\n",
              "    background-color: var(--bg-color);\n",
              "    border: none;\n",
              "    border-radius: 50%;\n",
              "    cursor: pointer;\n",
              "    display: none;\n",
              "    fill: var(--fill-color);\n",
              "    height: 32px;\n",
              "    padding: 0;\n",
              "    width: 32px;\n",
              "  }\n",
              "\n",
              "  .colab-df-quickchart:hover {\n",
              "    background-color: var(--hover-bg-color);\n",
              "    box-shadow: 0 1px 2px rgba(60, 64, 67, 0.3), 0 1px 3px 1px rgba(60, 64, 67, 0.15);\n",
              "    fill: var(--button-hover-fill-color);\n",
              "  }\n",
              "\n",
              "  .colab-df-quickchart-complete:disabled,\n",
              "  .colab-df-quickchart-complete:disabled:hover {\n",
              "    background-color: var(--disabled-bg-color);\n",
              "    fill: var(--disabled-fill-color);\n",
              "    box-shadow: none;\n",
              "  }\n",
              "\n",
              "  .colab-df-spinner {\n",
              "    border: 2px solid var(--fill-color);\n",
              "    border-color: transparent;\n",
              "    border-bottom-color: var(--fill-color);\n",
              "    animation:\n",
              "      spin 1s steps(1) infinite;\n",
              "  }\n",
              "\n",
              "  @keyframes spin {\n",
              "    0% {\n",
              "      border-color: transparent;\n",
              "      border-bottom-color: var(--fill-color);\n",
              "      border-left-color: var(--fill-color);\n",
              "    }\n",
              "    20% {\n",
              "      border-color: transparent;\n",
              "      border-left-color: var(--fill-color);\n",
              "      border-top-color: var(--fill-color);\n",
              "    }\n",
              "    30% {\n",
              "      border-color: transparent;\n",
              "      border-left-color: var(--fill-color);\n",
              "      border-top-color: var(--fill-color);\n",
              "      border-right-color: var(--fill-color);\n",
              "    }\n",
              "    40% {\n",
              "      border-color: transparent;\n",
              "      border-right-color: var(--fill-color);\n",
              "      border-top-color: var(--fill-color);\n",
              "    }\n",
              "    60% {\n",
              "      border-color: transparent;\n",
              "      border-right-color: var(--fill-color);\n",
              "    }\n",
              "    80% {\n",
              "      border-color: transparent;\n",
              "      border-right-color: var(--fill-color);\n",
              "      border-bottom-color: var(--fill-color);\n",
              "    }\n",
              "    90% {\n",
              "      border-color: transparent;\n",
              "      border-bottom-color: var(--fill-color);\n",
              "    }\n",
              "  }\n",
              "</style>\n",
              "\n",
              "      <script>\n",
              "        async function quickchart(key) {\n",
              "          const quickchartButtonEl =\n",
              "            document.querySelector('#' + key + ' button');\n",
              "          quickchartButtonEl.disabled = true;  // To prevent multiple clicks.\n",
              "          quickchartButtonEl.classList.add('colab-df-spinner');\n",
              "          try {\n",
              "            const charts = await google.colab.kernel.invokeFunction(\n",
              "                'suggestCharts', [key], {});\n",
              "          } catch (error) {\n",
              "            console.error('Error during call to suggestCharts:', error);\n",
              "          }\n",
              "          quickchartButtonEl.classList.remove('colab-df-spinner');\n",
              "          quickchartButtonEl.classList.add('colab-df-quickchart-complete');\n",
              "        }\n",
              "        (() => {\n",
              "          let quickchartButtonEl =\n",
              "            document.querySelector('#df-c3d60326-d015-443b-a6bc-5c6539ce4c5b button');\n",
              "          quickchartButtonEl.style.display =\n",
              "            google.colab.kernel.accessAllowed ? 'block' : 'none';\n",
              "        })();\n",
              "      </script>\n",
              "    </div>\n",
              "\n",
              "    </div>\n",
              "  </div>\n"
            ],
            "application/vnd.google.colaboratory.intrinsic+json": {
              "type": "dataframe",
              "summary": "{\n  \"name\": \"df[[\\\"review\\\", \\\"clean_review\\\"]]\",\n  \"rows\": 5,\n  \"fields\": [\n    {\n      \"column\": \"review\",\n      \"properties\": {\n        \"dtype\": \"string\",\n        \"num_unique_values\": 5,\n        \"samples\": [\n          \"A wonderful little production. <br /><br />The filming technique is very unassuming- very old-time-BBC fashion and gives a comforting, and sometimes discomforting, sense of realism to the entire piece. <br /><br />The actors are extremely well chosen- Michael Sheen not only \\\"has got all the polari\\\" but he has all the voices down pat too! You can truly see the seamless editing guided by the references to Williams' diary entries, not only is it well worth the watching but it is a terrificly written and performed piece. A masterful production about one of the great master's of comedy and his life. <br /><br />The realism really comes home with the little things: the fantasy of the guard which, rather than use the traditional 'dream' techniques remains solid then disappears. It plays on our knowledge and our senses, particularly with the scenes concerning Orton and Halliwell and the sets (particularly of their flat with Halliwell's murals decorating every surface) are terribly well done.\",\n          \"Petter Mattei's \\\"Love in the Time of Money\\\" is a visually stunning film to watch. Mr. Mattei offers us a vivid portrait about human relations. This is a movie that seems to be telling us what money, power and success do to people in the different situations we encounter. <br /><br />This being a variation on the Arthur Schnitzler's play about the same theme, the director transfers the action to the present time New York where all these different characters meet and connect. Each one is connected in one way, or another to the next person, but no one seems to know the previous point of contact. Stylishly, the film has a sophisticated luxurious look. We are taken to see how these people live and the world they live in their own habitat.<br /><br />The only thing one gets out of all these souls in the picture is the different stages of loneliness each one inhabits. A big city is not exactly the best place in which human relations find sincere fulfillment, as one discerns is the case with most of the people we encounter.<br /><br />The acting is good under Mr. Mattei's direction. Steve Buscemi, Rosario Dawson, Carol Kane, Michael Imperioli, Adrian Grenier, and the rest of the talented cast, make these characters come alive.<br /><br />We wish Mr. Mattei good luck and await anxiously for his next work.\",\n          \"I thought this was a wonderful way to spend time on a too hot summer weekend, sitting in the air conditioned theater and watching a light-hearted comedy. The plot is simplistic, but the dialogue is witty and the characters are likable (even the well bread suspected serial killer). While some may be disappointed when they realize this is not Match Point 2: Risk Addiction, I thought it was proof that Woody Allen is still fully in control of the style many of us have grown to love.<br /><br />This was the most I'd laughed at one of Woody's comedies in years (dare I say a decade?). While I've never been impressed with Scarlet Johanson, in this she managed to tone down her \\\"sexy\\\" image and jumped right into a average, but spirited young woman.<br /><br />This may not be the crown jewel of his career, but it was wittier than \\\"Devil Wears Prada\\\" and more interesting than \\\"Superman\\\" a great comedy to go see with friends.\"\n        ],\n        \"semantic_type\": \"\",\n        \"description\": \"\"\n      }\n    },\n    {\n      \"column\": \"clean_review\",\n      \"properties\": {\n        \"dtype\": \"string\",\n        \"num_unique_values\": 5,\n        \"samples\": [\n          \"wonderful little production filming technique unassuming oldtimebbc fashion gives comforting sometimes discomforting sense realism entire piece actors extremely well chosen michael sheen got polari voices pat truly see seamless editing guided references williams diary entries well worth watching terrificly written performed piece masterful production one great masters comedy life realism really comes home little things fantasy guard rather use traditional dream techniques remains solid disappears plays knowledge senses particularly scenes concerning orton halliwell sets particularly flat halliwells murals decorating every surface terribly well done\",\n          \"petter matteis love time money visually stunning watch mr mattei offers us vivid portrait human relations seems telling us money power success people different situations encounter variation arthur schnitzlers play theme director transfers action present time new york different characters meet connect one connected one way another next person one seems know previous point contact stylishly sophisticated luxurious look taken see people live world live habitat thing one gets souls picture different stages loneliness one inhabits big city exactly best place human relations find sincere fulfillment one discerns case people encounter acting good mr matteis direction steve buscemi rosario dawson carol kane michael imperioli adrian grenier rest talented cast make characters come alive wish mr mattei good luck await anxiously next work\",\n          \"thought wonderful way spend time hot summer weekend sitting air conditioned theater watching lighthearted comedy plot simplistic dialogue witty characters likable even well bread suspected serial killer may disappointed realize match point 2 risk addiction thought proof woody allen still fully control style many us grown love id laughed one woodys comedies years dare say decade ive never impressed scarlet johanson managed tone sexy image jumped right average spirited young woman may crown jewel career wittier devil wears prada interesting superman great comedy go see friends\"\n        ],\n        \"semantic_type\": \"\",\n        \"description\": \"\"\n      }\n    }\n  ]\n}"
            }
          },
          "metadata": {},
          "execution_count": 7
        }
      ]
    },
    {
      "cell_type": "markdown",
      "source": [
        "To see the effect of the cleaning, the top words per Sentiment Class should be checked again. Also, Stemming or Lemmatisation are good ways of making the data easier to work with, since it shortens words to their basic form."
      ],
      "metadata": {
        "id": "IBzDFuQyyDz5"
      }
    },
    {
      "cell_type": "markdown",
      "source": [
        "A sample of the processed data is displayed after this code block to check the impact of preprocessing.\n"
      ],
      "metadata": {
        "id": "PjUN4eMTC-6p"
      }
    },
    {
      "cell_type": "code",
      "source": [
        "#Lemmatisation (Makes data more readable than Stemming)\n",
        "import nltk\n",
        "from nltk.stem import WordNetLemmatizer\n",
        "\n",
        "nltk.download('wordnet')\n",
        "nltk.download('omw-1.4')\n",
        "\n",
        "lemmatizer = WordNetLemmatizer()\n",
        "\n",
        "# Apply lemmatisation\n",
        "df[\"lemmatized_tokens\"] = df[\"clean_tokens\"].apply(lambda tokens: [lemmatizer.lemmatize(word) for word in tokens])\n",
        "df[\"lemmatized_review\"] = df[\"lemmatized_tokens\"].apply(lambda tokens: \" \".join(tokens))\n",
        "\n",
        "\n",
        "#Re-check Top Words after cleaning\n",
        "from collections import Counter\n",
        "\n",
        "#Flatten the list of all words\n",
        "lemmatized_words = [word for review in df[\"lemmatized_tokens\"] for word in review]\n",
        "top_lemmatized = Counter(lemmatized_words).most_common(20)\n",
        "top_lemmatized_df = pd.DataFrame(top_lemmatized, columns=[\"word\", \"count\"])\n",
        "\n",
        "#Plot\n",
        "plt.figure(figsize=(10, 6))\n",
        "sns.barplot(data=top_lemmatized_df, x=\"count\", y=\"word\", color=\"skyblue\")\n",
        "plt.title(\"Top 20 Most Common Words After Lemmatization\")\n",
        "plt.xlabel(\"Count\")\n",
        "plt.ylabel(\"Word\")\n",
        "plt.show()\n",
        "\n",
        "df[[\"review\", \"clean_review\", \"lemmatized_review\"]].sample(3)\n"
      ],
      "metadata": {
        "colab": {
          "base_uri": "https://localhost:8080/",
          "height": 699
        },
        "id": "Svf1f3CZ9m6P",
        "outputId": "ec48d3dc-e02a-4a7b-db68-177f1a95df6c"
      },
      "execution_count": 8,
      "outputs": [
        {
          "output_type": "stream",
          "name": "stderr",
          "text": [
            "[nltk_data] Downloading package wordnet to /root/nltk_data...\n",
            "[nltk_data]   Package wordnet is already up-to-date!\n",
            "[nltk_data] Downloading package omw-1.4 to /root/nltk_data...\n",
            "[nltk_data]   Package omw-1.4 is already up-to-date!\n"
          ]
        },
        {
          "output_type": "display_data",
          "data": {
            "text/plain": [
              "<Figure size 1000x600 with 1 Axes>"
            ],
            "image/png": "[encoded data removed]"
          },
          "metadata": {}
        },
        {
          "output_type": "execute_result",
          "data": {
            "text/plain": [
              "                                                  review  \\\n",
              "48656  Yes, dumb is the word for this actress. I know...   \n",
              "6620   Greetings again from the darkness. Much antici...   \n",
              "20881  I bought this cheap from the rental remnant at...   \n",
              "\n",
              "                                            clean_review  \\\n",
              "48656  yes dumb word actress know many mentioned beau...   \n",
              "6620   greetings darkness much anticipated twisted co...   \n",
              "20881  bought cheap rental remnant local store almost...   \n",
              "\n",
              "                                       lemmatized_review  \n",
              "48656  yes dumb word actress know many mentioned beau...  \n",
              "6620   greeting darkness much anticipated twisted com...  \n",
              "20881  bought cheap rental remnant local store almost...  "
            ],
            "text/html": [
              "\n",
              "  <div id=\"df-b9d17264-4985-4d11-8c41-403541b23a80\" class=\"colab-df-container\">\n",
              "    <div>\n",
              "<style scoped>\n",
              "    .dataframe tbody tr th:only-of-type {\n",
              "        vertical-align: middle;\n",
              "    }\n",
              "\n",
              "    .dataframe tbody tr th {\n",
              "        vertical-align: top;\n",
              "    }\n",
              "\n",
              "    .dataframe thead th {\n",
              "        text-align: right;\n",
              "    }\n",
              "</style>\n",
              "<table border=\"1\" class=\"dataframe\">\n",
              "  <thead>\n",
              "    <tr style=\"text-align: right;\">\n",
              "      <th></th>\n",
              "      <th>review</th>\n",
              "      <th>clean_review</th>\n",
              "      <th>lemmatized_review</th>\n",
              "    </tr>\n",
              "  </thead>\n",
              "  <tbody>\n",
              "    <tr>\n",
              "      <th>48656</th>\n",
              "      <td>Yes, dumb is the word for this actress. I know...</td>\n",
              "      <td>yes dumb word actress know many mentioned beau...</td>\n",
              "      <td>yes dumb word actress know many mentioned beau...</td>\n",
              "    </tr>\n",
              "    <tr>\n",
              "      <th>6620</th>\n",
              "      <td>Greetings again from the darkness. Much antici...</td>\n",
              "      <td>greetings darkness much anticipated twisted co...</td>\n",
              "      <td>greeting darkness much anticipated twisted com...</td>\n",
              "    </tr>\n",
              "    <tr>\n",
              "      <th>20881</th>\n",
              "      <td>I bought this cheap from the rental remnant at...</td>\n",
              "      <td>bought cheap rental remnant local store almost...</td>\n",
              "      <td>bought cheap rental remnant local store almost...</td>\n",
              "    </tr>\n",
              "  </tbody>\n",
              "</table>\n",
              "</div>\n",
              "    <div class=\"colab-df-buttons\">\n",
              "\n",
              "  <div class=\"colab-df-container\">\n",
              "    <button class=\"colab-df-convert\" onclick=\"convertToInteractive('df-b9d17264-4985-4d11-8c41-403541b23a80')\"\n",
              "            title=\"Convert this dataframe to an interactive table.\"\n",
              "            style=\"display:none;\">\n",
              "\n",
              "  <svg xmlns=\"http://www.w3.org/2000/svg\" height=\"24px\" viewBox=\"0 -960 960 960\">\n",
              "    <path d=\"M120-120v-720h720v720H120Zm60-500h600v-160H180v160Zm220 220h160v-160H400v160Zm0 220h160v-160H400v160ZM180-400h160v-160H180v160Zm440 0h160v-160H620v160ZM180-180h160v-160H180v160Zm440 0h160v-160H620v160Z\"/>\n",
              "  </svg>\n",
              "    </button>\n",
              "\n",
              "  <style>\n",
              "    .colab-df-container {\n",
              "      display:flex;\n",
              "      gap: 12px;\n",
              "    }\n",
              "\n",
              "    .colab-df-convert {\n",
              "      background-color: #E8F0FE;\n",
              "      border: none;\n",
              "      border-radius: 50%;\n",
              "      cursor: pointer;\n",
              "      display: none;\n",
              "      fill: #1967D2;\n",
              "      height: 32px;\n",
              "      padding: 0 0 0 0;\n",
              "      width: 32px;\n",
              "    }\n",
              "\n",
              "    .colab-df-convert:hover {\n",
              "      background-color: #E2EBFA;\n",
              "      box-shadow: 0px 1px 2px rgba(60, 64, 67, 0.3), 0px 1px 3px 1px rgba(60, 64, 67, 0.15);\n",
              "      fill: #174EA6;\n",
              "    }\n",
              "\n",
              "    .colab-df-buttons div {\n",
              "      margin-bottom: 4px;\n",
              "    }\n",
              "\n",
              "    [theme=dark] .colab-df-convert {\n",
              "      background-color: #3B4455;\n",
              "      fill: #D2E3FC;\n",
              "    }\n",
              "\n",
              "    [theme=dark] .colab-df-convert:hover {\n",
              "      background-color: #434B5C;\n",
              "      box-shadow: 0px 1px 3px 1px rgba(0, 0, 0, 0.15);\n",
              "      filter: drop-shadow(0px 1px 2px rgba(0, 0, 0, 0.3));\n",
              "      fill: #FFFFFF;\n",
              "    }\n",
              "  </style>\n",
              "\n",
              "    <script>\n",
              "      const buttonEl =\n",
              "        document.querySelector('#df-b9d17264-4985-4d11-8c41-403541b23a80 button.colab-df-convert');\n",
              "      buttonEl.style.display =\n",
              "        google.colab.kernel.accessAllowed ? 'block' : 'none';\n",
              "\n",
              "      async function convertToInteractive(key) {\n",
              "        const element = document.querySelector('#df-b9d17264-4985-4d11-8c41-403541b23a80');\n",
              "        const dataTable =\n",
              "          await google.colab.kernel.invokeFunction('convertToInteractive',\n",
              "                                                    [key], {});\n",
              "        if (!dataTable) return;\n",
              "\n",
              "        const docLinkHtml = 'Like what you see? Visit the ' +\n",
              "          '<a target=\"_blank\" href=https://colab.research.google.com/notebooks/data_table.ipynb>data table notebook</a>'\n",
              "          + ' to learn more about interactive tables.';\n",
              "        element.innerHTML = '';\n",
              "        dataTable['output_type'] = 'display_data';\n",
              "        await google.colab.output.renderOutput(dataTable, element);\n",
              "        const docLink = document.createElement('div');\n",
              "        docLink.innerHTML = docLinkHtml;\n",
              "        element.appendChild(docLink);\n",
              "      }\n",
              "    </script>\n",
              "  </div>\n",
              "\n",
              "\n",
              "    <div id=\"df-93c62fe5-ff86-40ab-ab28-5d4e6d973cfa\">\n",
              "      <button class=\"colab-df-quickchart\" onclick=\"quickchart('df-93c62fe5-ff86-40ab-ab28-5d4e6d973cfa')\"\n",
              "                title=\"Suggest charts\"\n",
              "                style=\"display:none;\">\n",
              "\n",
              "<svg xmlns=\"http://www.w3.org/2000/svg\" height=\"24px\"viewBox=\"0 0 24 24\"\n",
              "     width=\"24px\">\n",
              "    <g>\n",
              "        <path d=\"M19 3H5c-1.1 0-2 .9-2 2v14c0 1.1.9 2 2 2h14c1.1 0 2-.9 2-2V5c0-1.1-.9-2-2-2zM9 17H7v-7h2v7zm4 0h-2V7h2v10zm4 0h-2v-4h2v4z\"/>\n",
              "    </g>\n",
              "</svg>\n",
              "      </button>\n",
              "\n",
              "<style>\n",
              "  .colab-df-quickchart {\n",
              "      --bg-color: #E8F0FE;\n",
              "      --fill-color: #1967D2;\n",
              "      --hover-bg-color: #E2EBFA;\n",
              "      --hover-fill-color: #174EA6;\n",
              "      --disabled-fill-color: #AAA;\n",
              "      --disabled-bg-color: #DDD;\n",
              "  }\n",
              "\n",
              "  [theme=dark] .colab-df-quickchart {\n",
              "      --bg-color: #3B4455;\n",
              "      --fill-color: #D2E3FC;\n",
              "      --hover-bg-color: #434B5C;\n",
              "      --hover-fill-color: #FFFFFF;\n",
              "      --disabled-bg-color: #3B4455;\n",
              "      --disabled-fill-color: #666;\n",
              "  }\n",
              "\n",
              "  .colab-df-quickchart {\n",
              "    background-color: var(--bg-color);\n",
              "    border: none;\n",
              "    border-radius: 50%;\n",
              "    cursor: pointer;\n",
              "    display: none;\n",
              "    fill: var(--fill-color);\n",
              "    height: 32px;\n",
              "    padding: 0;\n",
              "    width: 32px;\n",
              "  }\n",
              "\n",
              "  .colab-df-quickchart:hover {\n",
              "    background-color: var(--hover-bg-color);\n",
              "    box-shadow: 0 1px 2px rgba(60, 64, 67, 0.3), 0 1px 3px 1px rgba(60, 64, 67, 0.15);\n",
              "    fill: var(--button-hover-fill-color);\n",
              "  }\n",
              "\n",
              "  .colab-df-quickchart-complete:disabled,\n",
              "  .colab-df-quickchart-complete:disabled:hover {\n",
              "    background-color: var(--disabled-bg-color);\n",
              "    fill: var(--disabled-fill-color);\n",
              "    box-shadow: none;\n",
              "  }\n",
              "\n",
              "  .colab-df-spinner {\n",
              "    border: 2px solid var(--fill-color);\n",
              "    border-color: transparent;\n",
              "    border-bottom-color: var(--fill-color);\n",
              "    animation:\n",
              "      spin 1s steps(1) infinite;\n",
              "  }\n",
              "\n",
              "  @keyframes spin {\n",
              "    0% {\n",
              "      border-color: transparent;\n",
              "      border-bottom-color: var(--fill-color);\n",
              "      border-left-color: var(--fill-color);\n",
              "    }\n",
              "    20% {\n",
              "      border-color: transparent;\n",
              "      border-left-color: var(--fill-color);\n",
              "      border-top-color: var(--fill-color);\n",
              "    }\n",
              "    30% {\n",
              "      border-color: transparent;\n",
              "      border-left-color: var(--fill-color);\n",
              "      border-top-color: var(--fill-color);\n",
              "      border-right-color: var(--fill-color);\n",
              "    }\n",
              "    40% {\n",
              "      border-color: transparent;\n",
              "      border-right-color: var(--fill-color);\n",
              "      border-top-color: var(--fill-color);\n",
              "    }\n",
              "    60% {\n",
              "      border-color: transparent;\n",
              "      border-right-color: var(--fill-color);\n",
              "    }\n",
              "    80% {\n",
              "      border-color: transparent;\n",
              "      border-right-color: var(--fill-color);\n",
              "      border-bottom-color: var(--fill-color);\n",
              "    }\n",
              "    90% {\n",
              "      border-color: transparent;\n",
              "      border-bottom-color: var(--fill-color);\n",
              "    }\n",
              "  }\n",
              "</style>\n",
              "\n",
              "      <script>\n",
              "        async function quickchart(key) {\n",
              "          const quickchartButtonEl =\n",
              "            document.querySelector('#' + key + ' button');\n",
              "          quickchartButtonEl.disabled = true;  // To prevent multiple clicks.\n",
              "          quickchartButtonEl.classList.add('colab-df-spinner');\n",
              "          try {\n",
              "            const charts = await google.colab.kernel.invokeFunction(\n",
              "                'suggestCharts', [key], {});\n",
              "          } catch (error) {\n",
              "            console.error('Error during call to suggestCharts:', error);\n",
              "          }\n",
              "          quickchartButtonEl.classList.remove('colab-df-spinner');\n",
              "          quickchartButtonEl.classList.add('colab-df-quickchart-complete');\n",
              "        }\n",
              "        (() => {\n",
              "          let quickchartButtonEl =\n",
              "            document.querySelector('#df-93c62fe5-ff86-40ab-ab28-5d4e6d973cfa button');\n",
              "          quickchartButtonEl.style.display =\n",
              "            google.colab.kernel.accessAllowed ? 'block' : 'none';\n",
              "        })();\n",
              "      </script>\n",
              "    </div>\n",
              "\n",
              "    </div>\n",
              "  </div>\n"
            ],
            "application/vnd.google.colaboratory.intrinsic+json": {
              "type": "dataframe",
              "summary": "{\n  \"name\": \"df[[\\\"review\\\", \\\"clean_review\\\", \\\"lemmatized_review\\\"]]\",\n  \"rows\": 3,\n  \"fields\": [\n    {\n      \"column\": \"review\",\n      \"properties\": {\n        \"dtype\": \"string\",\n        \"num_unique_values\": 3,\n        \"samples\": [\n          \"Yes, dumb is the word for this actress. I know many have mentioned her beauty, but this viewer found her empty headed and boring to watch with her bleached hair, lip gloss, and not so perfect body. Watch her walk away in those jeans, showing a rather large butt. Her butt spreads beyond her shoulders. What does that tell you? As for the leading man, played by gorgeous Mark Humphrey, he was perfectly cast. A charmer. However, he and Lancaster just didn't match. She was out of place opposite this good looking guy. Good acting by Susan Glover as the sister. Angela Galuppo had a small role and was okay. But the film's director Philippe Gagnon, wasted too much footage on Lancaster. After a while you got tired of looking at her and watching her dull acting ability. And what a bitch of a wife she was. Snooping on her husband, being obnoxious to him and just a plain spoiled brat. Was happy to see her hit with the dart gun. I thought it might be the end of her. But alas, the script tells us otherwise. After torturing myself and watching this loser again, I still came up with the same criticism. Lancaster is boring to watch. This time around her hair, folks. Her hair constantly in her face, constantly tossing it back, became annoying. I question the writer, Alexandra Komisaruk's reason why a good looking wealthy man like Philippe would even bother with the likes of a bimbo like Allison. When there were so many attractive intelligent women, with class, to choose. He picks this nothing. Is this the Rochester/Jane Eyre thing? Oh well, it's all a matter of taste, I guess. This Sarah Lancaster is not my cup of tea, folks.\",\n          \"Greetings again from the darkness. Much anticipated, twisted comedy from writer/director Richard Shepard is a coming out party for Pierce Brosnan the actor. That Bond guy is gone. This new guy is something else entirely!! Have read that Shepard thought Brosnan was too much the pretty boy for this plum role, but Brosnan proves to be the perfect Julian Noble, \\\"Facilitator\\\" ... and is anything but pretty! Do not underestimate how twisted the humor is in this one. If you go, expect punch lines and sight gags regarding all types of sex, killing, religion, sports, business and anything else you might deem politically incorrect. Brosnan takes an excellent script to another level with his marvelous facial gestures and physical movements. Even sitting on a hotel bed (with or without a sombrero) is a joy to behold.<br /><br />Greg Kinnear is the straight guy to Brosnan's comic and has plenty of depth and comic timing to make this partnership click. Hope Davis has a small, but subtly effective supporting role as Kinnear's wife (what's with her name \\\"Bean\\\"?) who happens to get a little excited when she has a facilitator in her living room.<br /><br />The visuals and settings are perfect - including a bullfight, racetrack and Denver suburb. And how often do we get The Killers and Xavier Cugat on the same soundtrack? This one is definitely not for everyone, but if your sense of humor is a bit off center and you enjoy risky film-making, it could be for you.\",\n          \"I bought this cheap from the rental remnant at our local store. It was in almost mint condition, and I'd never heard of it before. Clearly nobody else had either.<br /><br />I can't believe my luck. You go through the whole realm of emotions and it attempts to get over a complex message - the very moral and non-triumphalist stance of the Mandela Party, undoubtedly. Despite its enormous length (I had to watch it in two sittings) - it was like a book one couldn't put down. Perhaps the songs are not all that memorable, but the spirit of the thing glows on forever. I cannot understand comments that a musical (clearly designed for stage) is not realistic! I've seen \\\"South Pacific\\\" and read the book too, and can guarantee that musical is not realistic compared to the book. I'll treasure this little find until it wears out. One day they'll make this again on a better budget.<br /><br />\"\n        ],\n        \"semantic_type\": \"\",\n        \"description\": \"\"\n      }\n    },\n    {\n      \"column\": \"clean_review\",\n      \"properties\": {\n        \"dtype\": \"string\",\n        \"num_unique_values\": 3,\n        \"samples\": [\n          \"yes dumb word actress know many mentioned beauty viewer found empty headed boring watch bleached hair lip gloss perfect body watch walk away jeans showing rather large butt butt spreads beyond shoulders tell leading man played gorgeous mark humphrey perfectly cast charmer however lancaster didnt match place opposite good looking guy good acting susan glover sister angela galuppo small role okay films director philippe gagnon wasted much footage lancaster got tired looking watching dull acting ability bitch wife snooping husband obnoxious plain spoiled brat happy see hit dart gun thought might end alas script tells us otherwise torturing watching loser still came criticism lancaster boring watch time around hair folks hair constantly face constantly tossing back became annoying question writer alexandra komisaruks reason good looking wealthy man like philippe would even bother likes bimbo like allison many attractive intelligent women class choose picks nothing rochesterjane eyre thing oh well matter taste guess sarah lancaster cup tea folks\",\n          \"greetings darkness much anticipated twisted comedy writerdirector richard shepard coming party pierce brosnan actor bond guy gone new guy something else entirely read shepard thought brosnan much pretty boy plum role brosnan proves perfect julian noble facilitator anything pretty underestimate twisted humor one go expect punch lines sight gags regarding types sex killing religion sports business anything else might deem politically incorrect brosnan takes excellent script another level marvelous facial gestures physical movements even sitting hotel bed without sombrero joy behold greg kinnear straight guy brosnans comic plenty depth comic timing make partnership click hope davis small subtly effective supporting role kinnears wife whats name bean happens get little excited facilitator living room visuals settings perfect including bullfight racetrack denver suburb often get killers xavier cugat soundtrack one definitely everyone sense humor bit center enjoy risky filmmaking could\",\n          \"bought cheap rental remnant local store almost mint condition id never heard clearly nobody else either cant believe luck go whole realm emotions attempts get complex message moral nontriumphalist stance mandela party undoubtedly despite enormous length watch two sittings like book one couldnt put perhaps songs memorable spirit thing glows forever cannot understand comments musical clearly designed stage realistic ive seen south pacific read book guarantee musical realistic compared book ill treasure little find wears one day theyll make better budget\"\n        ],\n        \"semantic_type\": \"\",\n        \"description\": \"\"\n      }\n    },\n    {\n      \"column\": \"lemmatized_review\",\n      \"properties\": {\n        \"dtype\": \"string\",\n        \"num_unique_values\": 3,\n        \"samples\": [\n          \"yes dumb word actress know many mentioned beauty viewer found empty headed boring watch bleached hair lip gloss perfect body watch walk away jean showing rather large butt butt spread beyond shoulder tell leading man played gorgeous mark humphrey perfectly cast charmer however lancaster didnt match place opposite good looking guy good acting susan glover sister angela galuppo small role okay film director philippe gagnon wasted much footage lancaster got tired looking watching dull acting ability bitch wife snooping husband obnoxious plain spoiled brat happy see hit dart gun thought might end ala script tell u otherwise torturing watching loser still came criticism lancaster boring watch time around hair folk hair constantly face constantly tossing back became annoying question writer alexandra komisaruks reason good looking wealthy man like philippe would even bother like bimbo like allison many attractive intelligent woman class choose pick nothing rochesterjane eyre thing oh well matter taste guess sarah lancaster cup tea folk\",\n          \"greeting darkness much anticipated twisted comedy writerdirector richard shepard coming party pierce brosnan actor bond guy gone new guy something else entirely read shepard thought brosnan much pretty boy plum role brosnan prof perfect julian noble facilitator anything pretty underestimate twisted humor one go expect punch line sight gag regarding type sex killing religion sport business anything else might deem politically incorrect brosnan take excellent script another level marvelous facial gesture physical movement even sitting hotel bed without sombrero joy behold greg kinnear straight guy brosnans comic plenty depth comic timing make partnership click hope davis small subtly effective supporting role kinnears wife whats name bean happens get little excited facilitator living room visuals setting perfect including bullfight racetrack denver suburb often get killer xavier cugat soundtrack one definitely everyone sense humor bit center enjoy risky filmmaking could\",\n          \"bought cheap rental remnant local store almost mint condition id never heard clearly nobody else either cant believe luck go whole realm emotion attempt get complex message moral nontriumphalist stance mandela party undoubtedly despite enormous length watch two sitting like book one couldnt put perhaps song memorable spirit thing glow forever cannot understand comment musical clearly designed stage realistic ive seen south pacific read book guarantee musical realistic compared book ill treasure little find wear one day theyll make better budget\"\n        ],\n        \"semantic_type\": \"\",\n        \"description\": \"\"\n      }\n    }\n  ]\n}"
            }
          },
          "metadata": {},
          "execution_count": 8
        }
      ]
    },
    {
      "cell_type": "markdown",
      "source": [
        "## **Section 2 : Representation Learning**\n",
        "\n",
        "---\n",
        "\n"
      ],
      "metadata": {
        "id": "xOfEI14JTy7A"
      }
    },
    {
      "cell_type": "markdown",
      "source": [
        "This section includes common techniques in NLP that will convert text data into numbers, so that in later sections the models can work with it. The methods chosen have been Word2Vec and TF-IDF Vectorization."
      ],
      "metadata": {
        "id": "iYsOY_SFIHBW"
      }
    },
    {
      "cell_type": "markdown",
      "source": [
        "* TF-IDF (Term Frequency - Inverse Document Frequency) transforms each review into a numerical vector, based on how important each word is in the dataset. The top 10.000 most relevant words were chosen, to simplify the process. The result of this technique doesn't rely on word order.\n",
        "\n",
        "* Word2Vec (SkipGram model) was trained on the lemmatised tokens to learn a 100-dimensional vector representation for each word. To represent each review, the vectors of its words were averaged, so that the semantics are captured.\n",
        "\n",
        "\n"
      ],
      "metadata": {
        "id": "w70nngBq97Sp"
      }
    },
    {
      "cell_type": "code",
      "source": [
        "#Representation Learning\n",
        "import gensim\n",
        "from gensim.models import Word2Vec\n",
        "import numpy as np\n",
        "import pandas as pd\n",
        "from sklearn.feature_extraction.text import TfidfVectorizer\n",
        "\n",
        "#Downsample dataset and shuffle rows for balance\n",
        "df_size = 10000\n",
        "df_sampled = df.groupby(\"sentiment\", group_keys=False).apply(lambda x: x.sample(df_size // 2, random_state=42)).reset_index(drop=True)\n",
        "df_sampled = df_sampled.sample(frac=1, random_state=42).reset_index(drop=True)\n",
        "\n",
        "#Prepare lemmatised tokens into string format for TF-IDF\n",
        "df_sampled[\"lemmatized_review\"] = df_sampled[\"lemmatized_tokens\"].apply(lambda x: \" \".join(x))\n",
        "\n",
        "#TF-IDF Vectorization (strings to vectors of numbers)\n",
        "tfidf_vectorizer = TfidfVectorizer(max_features=10000)\n",
        "X_tfidf = tfidf_vectorizer.fit_transform(df_sampled[\"lemmatized_review\"])\n",
        "X_tfidf = X_tfidf.toarray()\n",
        "\n",
        "#Convert sentiment to binary (1;positive, 0;negative)\n",
        "sentiment_labels = {\"positive\": 1, \"negative\": 0}\n",
        "y = df_sampled[\"sentiment\"].map(sentiment_labels).values\n",
        "\n",
        "#Word2Vec (SkipGram model)\n",
        "w2v_model = Word2Vec(\n",
        "    sentences=df_sampled[\"lemmatized_tokens\"],\n",
        "    vector_size=100,\n",
        "    window=5, #Looks for context\n",
        "    min_count=2,\n",
        "    workers=4,\n",
        "    sg=1\n",
        ")\n",
        "\n",
        "#Function to get the average vector per review\n",
        "def get_average_vector(tokens, model, vector_size):\n",
        "    valid_tokens = [token for token in tokens if token in model.wv]\n",
        "    if not valid_tokens:\n",
        "        return np.zeros(vector_size)\n",
        "    return np.mean([model.wv[token] for token in valid_tokens], axis=0)\n",
        "\n",
        "X_w2v = np.array([get_average_vector(tokens, w2v_model, 100) for tokens in df_sampled[\"lemmatized_tokens\"]])\n",
        "\n",
        "#Shapes\n",
        "print(\"TF-IDF shape:\", X_tfidf.shape)\n",
        "print(\"Word2Vec shape:\", X_w2v.shape)\n",
        "print(\"Labels shape:\", y.shape)\n",
        "\n",
        "df_sampled[\"sentiment\"].value_counts()\n",
        "\n"
      ],
      "metadata": {
        "id": "tDCs79c4WUsc",
        "colab": {
          "base_uri": "https://localhost:8080/",
          "height": 285
        },
        "outputId": "682ecb14-a26d-4a85-e89d-b3cd10c5bb3b"
      },
      "execution_count": 9,
      "outputs": [
        {
          "output_type": "stream",
          "name": "stderr",
          "text": [
            "/tmp/ipython-input-1172577948.py:10: DeprecationWarning: DataFrameGroupBy.apply operated on the grouping columns. This behavior is deprecated, and in a future version of pandas the grouping columns will be excluded from the operation. Either pass `include_groups=False` to exclude the groupings or explicitly select the grouping columns after groupby to silence this warning.\n",
            "  df_sampled = df.groupby(\"sentiment\", group_keys=False).apply(lambda x: x.sample(df_size // 2, random_state=42)).reset_index(drop=True)\n"
          ]
        },
        {
          "output_type": "stream",
          "name": "stdout",
          "text": [
            "TF-IDF shape: (10000, 10000)\n",
            "Word2Vec shape: (10000, 100)\n",
            "Labels shape: (10000,)\n"
          ]
        },
        {
          "output_type": "execute_result",
          "data": {
            "text/plain": [
              "sentiment\n",
              "positive    5000\n",
              "negative    5000\n",
              "Name: count, dtype: int64"
            ],
            "text/html": [
              "<div>\n",
              "<style scoped>\n",
              "    .dataframe tbody tr th:only-of-type {\n",
              "        vertical-align: middle;\n",
              "    }\n",
              "\n",
              "    .dataframe tbody tr th {\n",
              "        vertical-align: top;\n",
              "    }\n",
              "\n",
              "    .dataframe thead th {\n",
              "        text-align: right;\n",
              "    }\n",
              "</style>\n",
              "<table border=\"1\" class=\"dataframe\">\n",
              "  <thead>\n",
              "    <tr style=\"text-align: right;\">\n",
              "      <th></th>\n",
              "      <th>count</th>\n",
              "    </tr>\n",
              "    <tr>\n",
              "      <th>sentiment</th>\n",
              "      <th></th>\n",
              "    </tr>\n",
              "  </thead>\n",
              "  <tbody>\n",
              "    <tr>\n",
              "      <th>positive</th>\n",
              "      <td>5000</td>\n",
              "    </tr>\n",
              "    <tr>\n",
              "      <th>negative</th>\n",
              "      <td>5000</td>\n",
              "    </tr>\n",
              "  </tbody>\n",
              "</table>\n",
              "</div><br><label><b>dtype:</b> int64</label>"
            ]
          },
          "metadata": {},
          "execution_count": 9
        }
      ]
    },
    {
      "cell_type": "markdown",
      "source": [
        "## **Section 3 : Algorithms**\n",
        "\n",
        "---\n",
        "\n"
      ],
      "metadata": {
        "id": "7sjoR_SFTzTC"
      }
    },
    {
      "cell_type": "markdown",
      "source": [
        "For this sentiment classification task, two machine learning algorithms were implemented and evaluated: Multinomial Naive Bayes and Support Vector Machine (SVM). Both models were trained using two types of feature representations from the previous section; TF-IDF vectors and Word2Vec embeddings."
      ],
      "metadata": {
        "id": "BfB2lBv5Je9i"
      }
    },
    {
      "cell_type": "markdown",
      "source": [
        "**Naive Bayes (TF-IDF):**\n",
        "\n",
        "Multinomial Naive Bayes is a probabilistic classifier based on Bayes' Theorem, which assumes conditional independence between features. Despite its simplicity, Naive Bayes is really effective, especially in NLP tasks with large datasets. It calculates the likelihood of each sentiment class based on the input features (words in the review) and assigns the class with the highest predicted probability.\n",
        "\n",
        "In the implementation, the Naive Bayes model was trained on TF-IDF vectors, which represent each review as a numerical vector weighted by the importance of each term in relation to the entire dataset. This representation captures not just the frequency of words but also their relevance across the dataset. By combining Naive Bayes with TF-IDF, the model benefits from the simplicity of probabilistic classification while incorporating a meaningful weighting scheme for textual features.\n"
      ],
      "metadata": {
        "id": "X9r1e0ClSgZo"
      }
    },
    {
      "cell_type": "markdown",
      "source": [
        "**Support Vector Machine (TF-IDF and Word2Vec):**\n",
        "\n",
        "Support Vector Machines are strong classifiers that aim to find the optimal hyperplane that separates data points of different classes with the widest margin possible. They are especially useful for high dimensional data like text. SVMs also avoid overfitting and perform well even when there are more features than data samples.\n",
        "\n",
        "In this project, two SVM models were implemented using different input features:\n",
        "\n",
        "1. SVM with TF-IDF:\n",
        "This model was trained\n",
        "using the same TF-IDF feature matrix used with Naive Bayes. The high dimensional representation allows the SVM to find minor differences between classes based on the presence and weighting of key terms.\n",
        "\n",
        "2. SVM with Word2Vec:\n",
        "Here, the model was trained on dense, low dimensional semantic vectors generated from Word2Vec embeddings. Each review was represented as the mean of the word vectors for all tokens in the review. This method captures both the contextual and semantic relationships between words, offering a more detailed representation to the \"meaning\" than TF-IDF."
      ],
      "metadata": {
        "id": "fkxWkF15Sj8J"
      }
    },
    {
      "cell_type": "markdown",
      "source": [
        "All models were evaluated using the same 80/20 train-test split, and their performance was measured using Accuracy, Precision, Recall, F1-Score, and Training Time. The results were collected into a table for analysis in the following section."
      ],
      "metadata": {
        "id": "xem-zcYMSGHe"
      }
    },
    {
      "cell_type": "code",
      "source": [
        "import time\n",
        "from sklearn.model_selection import train_test_split\n",
        "from sklearn.naive_bayes import MultinomialNB\n",
        "from sklearn.svm import LinearSVC\n",
        "from sklearn.metrics import accuracy_score, precision_score, recall_score, f1_score\n",
        "import pandas as pd\n",
        "\n",
        "\n",
        "#Use existing vector representations from Section 2\n",
        "#Train, test split\n",
        "X_train_tfidf, X_test_tfidf, y_train, y_test = train_test_split(X_tfidf, y, test_size=0.2, random_state=42)\n",
        "X_train_w2v, X_test_w2v, _, _ = train_test_split(X_w2v, y, test_size=0.2, random_state=42)\n",
        "\n",
        "results = []\n",
        "\n",
        "#Naive Bayes (TF-IDF)\n",
        "start_time = time.time()\n",
        "nb = MultinomialNB()\n",
        "nb.fit(X_train_tfidf, y_train)\n",
        "y_pred_nb = nb.predict(X_test_tfidf)\n",
        "results.append({\n",
        "    \"Model\": \"Naive Bayes (TF-IDF)\",\n",
        "    \"Accuracy\": accuracy_score(y_test, y_pred_nb),\n",
        "    \"Precision\": precision_score(y_test, y_pred_nb),\n",
        "    \"Recall\": recall_score(y_test, y_pred_nb),\n",
        "    \"F1-Score\": f1_score(y_test, y_pred_nb),\n",
        "    \"Training Time (s)\": time.time() - start_time\n",
        "})\n",
        "\n",
        "#SVM (TF-IDF)\n",
        "start_time = time.time()\n",
        "svm_tfidf = LinearSVC()\n",
        "svm_tfidf.fit(X_train_tfidf, y_train)\n",
        "y_pred_svm_tfidf = svm_tfidf.predict(X_test_tfidf)\n",
        "results.append({\n",
        "    \"Model\": \"SVM (TF-IDF)\",\n",
        "    \"Accuracy\": accuracy_score(y_test, y_pred_svm_tfidf),\n",
        "    \"Precision\": precision_score(y_test, y_pred_svm_tfidf),\n",
        "    \"Recall\": recall_score(y_test, y_pred_svm_tfidf),\n",
        "    \"F1-Score\": f1_score(y_test, y_pred_svm_tfidf),\n",
        "    \"Training Time (s)\": time.time() - start_time\n",
        "})\n",
        "\n",
        "#SVM (Word2Vec)\n",
        "start_time = time.time()\n",
        "svm_w2v = LinearSVC()\n",
        "svm_w2v.fit(X_train_w2v, y_train)\n",
        "y_pred_svm_w2v = svm_w2v.predict(X_test_w2v)\n",
        "results.append({\n",
        "    \"Model\": \"SVM (Word2Vec)\",\n",
        "    \"Accuracy\": accuracy_score(y_test, y_pred_svm_w2v),\n",
        "    \"Precision\": precision_score(y_test, y_pred_svm_w2v),\n",
        "    \"Recall\": recall_score(y_test, y_pred_svm_w2v),\n",
        "    \"F1-Score\": f1_score(y_test, y_pred_svm_w2v),\n",
        "    \"Training Time (s)\": time.time() - start_time\n",
        "})\n",
        "\n",
        "#Results Table\n",
        "results_df = pd.DataFrame(results)\n",
        "results_df[[\"Accuracy\", \"Precision\", \"Recall\", \"F1-Score\"]] = results_df[[\"Accuracy\", \"Precision\", \"Recall\", \"F1-Score\"]].round(4)\n",
        "print(results_df)\n"
      ],
      "metadata": {
        "id": "C77dLytGWc5U",
        "colab": {
          "base_uri": "https://localhost:8080/"
        },
        "outputId": "87ce92a6-74e7-4df3-a3e9-afb3ffb9c0a2"
      },
      "execution_count": 16,
      "outputs": [
        {
          "output_type": "stream",
          "name": "stdout",
          "text": [
            "                  Model  Accuracy  Precision  Recall  F1-Score  \\\n",
            "0  Naive Bayes (TF-IDF)    0.8552     0.8449  0.8602    0.8525   \n",
            "1          SVM (TF-IDF)    0.8770     0.8656  0.8843    0.8749   \n",
            "2        SVM (Word2Vec)    0.8672     0.8472  0.8869    0.8666   \n",
            "\n",
            "   Training Time (s)  \n",
            "0           0.783099  \n",
            "1           1.379042  \n",
            "2           0.482064  \n"
          ]
        }
      ]
    },
    {
      "cell_type": "markdown",
      "source": [
        "## **Section 4 : Evaluation**\n",
        "\n",
        "---\n",
        "\n"
      ],
      "metadata": {
        "id": "CzwRpnm6TzZu"
      }
    },
    {
      "cell_type": "markdown",
      "source": [
        "To assess the performance of the implemented NLP models, several evaluation metrics were used: Accuracy, Precision, Recall, F1-Score, and Training Time. These metrics were selected to provide a comprehensive understanding of model performance on the binary sentiment classification task.\n",
        "\n",
        "The results showed that SVM with TF-IDF achieved the highest overall performance, with an accuracy of 87.7% and an F1-Score of 87.49%. This indicates a strong ability to correctly classify both positive and negative reviews while maintaining a balance between precision and recall.\n",
        "\n",
        "SVM with Word2Vec also performed well, achieving a slightly lower accuracy of 86.7%, but with a higher recall (88.7%) than SVM with TF-IDF. This suggests that it was more sensitive in identifying positive sentiments.\n",
        "\n",
        "The Naive Bayes model, while slightly lower in accuracy (85.5%), showed a good performance with fast training time. This model tends to rely heavily on word frequency and might be less sensitive to contextual meaning. This could explain its slightly lower recall compared to the SVM models, especially in detecting precise sentiment expressions.\n",
        "\n",
        "In addition to the numerical evaluation, confusion matrices were plotted to identify classification patterns and errors, and a bar chart shows the comparison of the metric performance.\n",
        "\n",
        "Overall, SVM with TF-IDF has the most balanced and accurate sentiment classification for this scenario."
      ],
      "metadata": {
        "id": "rcqlSqXyWG3z"
      }
    },
    {
      "cell_type": "code",
      "source": [
        "from sklearn.metrics import roc_auc_score\n",
        "\n",
        "#ROC-AUC scores\n",
        "roc_nb = roc_auc_score(y_test, nb.predict_proba(X_test_tfidf)[:,1])\n",
        "roc_svm_tfidf = roc_auc_score(y_test, svm_tfidf.decision_function(X_test_tfidf))\n",
        "roc_svm_w2v = roc_auc_score(y_test, svm_w2v.decision_function(X_test_w2v))\n",
        "\n",
        "print(\"ROC-AUC Scores:\")\n",
        "print(\"Naive Bayes (TF-IDF):\", round(roc_nb, 4))\n",
        "print(\"SVM (TF-IDF):\", round(roc_svm_tfidf, 4))\n",
        "print(\"SVM (Word2Vec):\", round(roc_svm_w2v, 4))\n",
        "print(\"--------------------------------------\")\n"
      ],
      "metadata": {
        "id": "j0DqNB8iWfU4",
        "colab": {
          "base_uri": "https://localhost:8080/"
        },
        "outputId": "7c9cb2c1-c473-47c9-e2f9-ae9cb05e0a88"
      },
      "execution_count": 17,
      "outputs": [
        {
          "output_type": "stream",
          "name": "stdout",
          "text": [
            "ROC-AUC Scores:\n",
            "Naive Bayes (TF-IDF): 0.9339\n",
            "SVM (TF-IDF): 0.9521\n",
            "SVM (Word2Vec): 0.938\n",
            "--------------------------------------\n"
          ]
        }
      ]
    },
    {
      "cell_type": "code",
      "source": [
        "#Bar chart of all metrics\n",
        "import seaborn as sns\n",
        "import matplotlib.pyplot as plt\n",
        "\n",
        "results_df_plot = results_df.melt(id_vars='Model', value_vars=[\"Accuracy\", \"Precision\", \"Recall\", \"F1-Score\"],\n",
        "                                  var_name='Metric', value_name='Score')\n",
        "\n",
        "plt.figure(figsize=(10,6))\n",
        "sns.barplot(data=results_df_plot, x='Metric', y='Score', hue='Model', palette='pastel')\n",
        "plt.title(\"Model Performance Comparison\")\n",
        "plt.ylim(0, 1)\n",
        "plt.legend(loc='lower right')\n",
        "plt.tight_layout()\n",
        "plt.show()\n"
      ],
      "metadata": {
        "colab": {
          "base_uri": "https://localhost:8080/",
          "height": 421
        },
        "id": "ritF3RlqGHvd",
        "outputId": "ad82b652-b221-4b1b-fc14-f08f40829397"
      },
      "execution_count": 18,
      "outputs": [
        {
          "output_type": "display_data",
          "data": {
            "text/plain": [
              "<Figure size 1000x600 with 1 Axes>"
            ],
            "image/png": "[encoded data removed]"
          },
          "metadata": {}
        }
      ]
    },
    {
      "cell_type": "code",
      "source": [
        "#Confusion matrices\n",
        "from sklearn.metrics import confusion_matrix, ConfusionMatrixDisplay\n",
        "\n",
        "models = {\n",
        "    \"Naive Bayes (TF-IDF)\": (y_test, y_pred_nb),\n",
        "    \"SVM (TF-IDF)\": (y_test, y_pred_svm_tfidf),\n",
        "    \"SVM (Word2Vec)\": (y_test, y_pred_svm_w2v)\n",
        "}\n",
        "\n",
        "for model_name, (true, pred) in models.items():\n",
        "    cm = confusion_matrix(true, pred)\n",
        "    disp = ConfusionMatrixDisplay(confusion_matrix=cm, display_labels=[\"Negative\", \"Positive\"])\n",
        "    disp.plot(cmap='Purples')\n",
        "    plt.title(f\"Confusion Matrix: {model_name}\")\n",
        "    plt.show()\n"
      ],
      "metadata": {
        "colab": {
          "base_uri": "https://localhost:8080/",
          "height": 1000
        },
        "id": "br7USrBIGJKH",
        "outputId": "8ef8b59f-6507-4cd9-ef78-a164a7de4f6e"
      },
      "execution_count": 19,
      "outputs": [
        {
          "output_type": "display_data",
          "data": {
            "text/plain": [
              "<Figure size 640x480 with 2 Axes>"
            ],
            "image/png": "[encoded data removed]"
          },
          "metadata": {}
        },
        {
          "output_type": "display_data",
          "data": {
            "text/plain": [
              "<Figure size 640x480 with 2 Axes>"
            ],
            "image/png": "[encoded data removed]"
          },
          "metadata": {}
        },
        {
          "output_type": "display_data",
          "data": {
            "text/plain": [
              "<Figure size 640x480 with 2 Axes>"
            ],
            "image/png": "[encoded data removed]"
          },
          "metadata": {}
        }
      ]
    },
    {
      "cell_type": "markdown",
      "source": [
        "## **Section 5 : Paper Overview**\n",
        "\n",
        "---\n",
        "\n"
      ],
      "metadata": {
        "id": "ccttf91yUB5a"
      }
    },
    {
      "cell_type": "markdown",
      "source": [
        "Provide an overview of the paper and its contributions, including the task to be performed. (200 Words)  \n"
      ],
      "metadata": {
        "id": "UdMXdivaWo7y"
      }
    },
    {
      "cell_type": "markdown",
      "source": [
        "It is understood that it is sometimes impossible to completely reproduce another author’s work, particularly in scenarios where they do not share certain parameters or use an alternative library from the one selected by the student. In such cases, the student may select the most appropriate strategy and continue the development (for example, if a parameter is not mentioned then you may wish to keep it at a library default, use a value from the lab exercises, or experiment). All that is required is a comment to highlight where this has been the case.\n",
        "A reading list of papers is provided in CampusMoodle (broken down across relevant topics for each week). These should give ideas, but students may consider papers from any reputable source.\n",
        "Students are encouraged to keep in mind resource requirements for experiments. NLP algorithms quickly increase in computational complexity, so please ensure you select something feasible.\n"
      ],
      "metadata": {
        "id": "riSzymJZZ2ET"
      }
    },
    {
      "cell_type": "markdown",
      "source": [
        "*Paper is comprehensively described, and its contributions clearly understood.\n",
        "Algorithm is accurately reproduced. Results are comprehensively analysed and compared with paper.*\n"
      ],
      "metadata": {
        "id": "2FBRu1PRatzL"
      }
    },
    {
      "cell_type": "markdown",
      "source": [
        "## **Section 6 : Algorithms from Paper**\n",
        "\n",
        "---\n",
        "\n"
      ],
      "metadata": {
        "id": "DB8GT7-WUDN-"
      }
    },
    {
      "cell_type": "code",
      "source": [
        "#Implement the algorithm as described in the paper."
      ],
      "metadata": {
        "id": "kJhDqvTbWrpm"
      },
      "execution_count": null,
      "outputs": []
    },
    {
      "cell_type": "markdown",
      "source": [
        "## **Section 7 : Evaluation of Implementation**\n",
        "\n",
        "---\n",
        "\n"
      ],
      "metadata": {
        "id": "VmKaZBrLUDRk"
      }
    },
    {
      "cell_type": "markdown",
      "source": [
        "Analyse the results, highlighting and explaining any inconsistencies with those reported in the paper. (200 Words)\n"
      ],
      "metadata": {
        "id": "N-ldvVSaWwXv"
      }
    },
    {
      "cell_type": "code",
      "source": [
        "#Evaluate the implementation using the same performance metric(s) as the selected paper."
      ],
      "metadata": {
        "id": "_5vWsfUsWxws"
      },
      "execution_count": null,
      "outputs": []
    }
  ]
}